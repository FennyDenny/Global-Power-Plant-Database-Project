{
 "cells": [
  {
   "cell_type": "code",
   "execution_count": 1,
   "id": "5894f37a",
   "metadata": {},
   "outputs": [],
   "source": [
    "import pandas as pd\n",
    "import matplotlib.pyplot as plt \n",
    "import numpy as np\n",
    "import seaborn as sn\n",
    "\n",
    "import warnings\n",
    "warnings.filterwarnings('ignore')"
   ]
  },
  {
   "cell_type": "code",
   "execution_count": 2,
   "id": "9e814d76",
   "metadata": {},
   "outputs": [
    {
     "data": {
      "text/html": [
       "<div>\n",
       "<style scoped>\n",
       "    .dataframe tbody tr th:only-of-type {\n",
       "        vertical-align: middle;\n",
       "    }\n",
       "\n",
       "    .dataframe tbody tr th {\n",
       "        vertical-align: top;\n",
       "    }\n",
       "\n",
       "    .dataframe thead th {\n",
       "        text-align: right;\n",
       "    }\n",
       "</style>\n",
       "<table border=\"1\" class=\"dataframe\">\n",
       "  <thead>\n",
       "    <tr style=\"text-align: right;\">\n",
       "      <th></th>\n",
       "      <th>country</th>\n",
       "      <th>country_long</th>\n",
       "      <th>name</th>\n",
       "      <th>gppd_idnr</th>\n",
       "      <th>capacity_mw</th>\n",
       "      <th>latitude</th>\n",
       "      <th>longitude</th>\n",
       "      <th>primary_fuel</th>\n",
       "      <th>other_fuel1</th>\n",
       "      <th>other_fuel2</th>\n",
       "      <th>...</th>\n",
       "      <th>geolocation_source</th>\n",
       "      <th>wepp_id</th>\n",
       "      <th>year_of_capacity_data</th>\n",
       "      <th>generation_gwh_2013</th>\n",
       "      <th>generation_gwh_2014</th>\n",
       "      <th>generation_gwh_2015</th>\n",
       "      <th>generation_gwh_2016</th>\n",
       "      <th>generation_gwh_2017</th>\n",
       "      <th>generation_data_source</th>\n",
       "      <th>estimated_generation_gwh</th>\n",
       "    </tr>\n",
       "  </thead>\n",
       "  <tbody>\n",
       "    <tr>\n",
       "      <th>0</th>\n",
       "      <td>IND</td>\n",
       "      <td>India</td>\n",
       "      <td>ACME Solar Tower</td>\n",
       "      <td>WRI1020239</td>\n",
       "      <td>2.5</td>\n",
       "      <td>28.1839</td>\n",
       "      <td>73.2407</td>\n",
       "      <td>Solar</td>\n",
       "      <td>NaN</td>\n",
       "      <td>NaN</td>\n",
       "      <td>...</td>\n",
       "      <td>National Renewable Energy Laboratory</td>\n",
       "      <td>NaN</td>\n",
       "      <td>NaN</td>\n",
       "      <td>NaN</td>\n",
       "      <td>NaN</td>\n",
       "      <td>NaN</td>\n",
       "      <td>NaN</td>\n",
       "      <td>NaN</td>\n",
       "      <td>NaN</td>\n",
       "      <td>NaN</td>\n",
       "    </tr>\n",
       "    <tr>\n",
       "      <th>1</th>\n",
       "      <td>IND</td>\n",
       "      <td>India</td>\n",
       "      <td>ADITYA CEMENT WORKS</td>\n",
       "      <td>WRI1019881</td>\n",
       "      <td>98.0</td>\n",
       "      <td>24.7663</td>\n",
       "      <td>74.6090</td>\n",
       "      <td>Coal</td>\n",
       "      <td>NaN</td>\n",
       "      <td>NaN</td>\n",
       "      <td>...</td>\n",
       "      <td>WRI</td>\n",
       "      <td>NaN</td>\n",
       "      <td>NaN</td>\n",
       "      <td>NaN</td>\n",
       "      <td>NaN</td>\n",
       "      <td>NaN</td>\n",
       "      <td>NaN</td>\n",
       "      <td>NaN</td>\n",
       "      <td>NaN</td>\n",
       "      <td>NaN</td>\n",
       "    </tr>\n",
       "    <tr>\n",
       "      <th>2</th>\n",
       "      <td>IND</td>\n",
       "      <td>India</td>\n",
       "      <td>AES Saurashtra Windfarms</td>\n",
       "      <td>WRI1026669</td>\n",
       "      <td>39.2</td>\n",
       "      <td>21.9038</td>\n",
       "      <td>69.3732</td>\n",
       "      <td>Wind</td>\n",
       "      <td>NaN</td>\n",
       "      <td>NaN</td>\n",
       "      <td>...</td>\n",
       "      <td>WRI</td>\n",
       "      <td>NaN</td>\n",
       "      <td>NaN</td>\n",
       "      <td>NaN</td>\n",
       "      <td>NaN</td>\n",
       "      <td>NaN</td>\n",
       "      <td>NaN</td>\n",
       "      <td>NaN</td>\n",
       "      <td>NaN</td>\n",
       "      <td>NaN</td>\n",
       "    </tr>\n",
       "    <tr>\n",
       "      <th>3</th>\n",
       "      <td>IND</td>\n",
       "      <td>India</td>\n",
       "      <td>AGARTALA GT</td>\n",
       "      <td>IND0000001</td>\n",
       "      <td>135.0</td>\n",
       "      <td>23.8712</td>\n",
       "      <td>91.3602</td>\n",
       "      <td>Gas</td>\n",
       "      <td>NaN</td>\n",
       "      <td>NaN</td>\n",
       "      <td>...</td>\n",
       "      <td>WRI</td>\n",
       "      <td>NaN</td>\n",
       "      <td>2018.0</td>\n",
       "      <td>631.777928</td>\n",
       "      <td>617.789264</td>\n",
       "      <td>843.747000</td>\n",
       "      <td>886.004428</td>\n",
       "      <td>663.774500</td>\n",
       "      <td>Central Electricity Authority</td>\n",
       "      <td>NaN</td>\n",
       "    </tr>\n",
       "    <tr>\n",
       "      <th>4</th>\n",
       "      <td>IND</td>\n",
       "      <td>India</td>\n",
       "      <td>AKALTARA TPP</td>\n",
       "      <td>IND0000002</td>\n",
       "      <td>1800.0</td>\n",
       "      <td>21.9603</td>\n",
       "      <td>82.4091</td>\n",
       "      <td>Coal</td>\n",
       "      <td>Oil</td>\n",
       "      <td>NaN</td>\n",
       "      <td>...</td>\n",
       "      <td>WRI</td>\n",
       "      <td>NaN</td>\n",
       "      <td>2018.0</td>\n",
       "      <td>1668.290000</td>\n",
       "      <td>3035.550000</td>\n",
       "      <td>5916.370000</td>\n",
       "      <td>6243.000000</td>\n",
       "      <td>5385.579736</td>\n",
       "      <td>Central Electricity Authority</td>\n",
       "      <td>NaN</td>\n",
       "    </tr>\n",
       "    <tr>\n",
       "      <th>...</th>\n",
       "      <td>...</td>\n",
       "      <td>...</td>\n",
       "      <td>...</td>\n",
       "      <td>...</td>\n",
       "      <td>...</td>\n",
       "      <td>...</td>\n",
       "      <td>...</td>\n",
       "      <td>...</td>\n",
       "      <td>...</td>\n",
       "      <td>...</td>\n",
       "      <td>...</td>\n",
       "      <td>...</td>\n",
       "      <td>...</td>\n",
       "      <td>...</td>\n",
       "      <td>...</td>\n",
       "      <td>...</td>\n",
       "      <td>...</td>\n",
       "      <td>...</td>\n",
       "      <td>...</td>\n",
       "      <td>...</td>\n",
       "      <td>...</td>\n",
       "    </tr>\n",
       "    <tr>\n",
       "      <th>903</th>\n",
       "      <td>IND</td>\n",
       "      <td>India</td>\n",
       "      <td>YERMARUS TPP</td>\n",
       "      <td>IND0000513</td>\n",
       "      <td>1600.0</td>\n",
       "      <td>16.2949</td>\n",
       "      <td>77.3568</td>\n",
       "      <td>Coal</td>\n",
       "      <td>Oil</td>\n",
       "      <td>NaN</td>\n",
       "      <td>...</td>\n",
       "      <td>WRI</td>\n",
       "      <td>NaN</td>\n",
       "      <td>2018.0</td>\n",
       "      <td>NaN</td>\n",
       "      <td>NaN</td>\n",
       "      <td>0.994875</td>\n",
       "      <td>233.596650</td>\n",
       "      <td>865.400000</td>\n",
       "      <td>Central Electricity Authority</td>\n",
       "      <td>NaN</td>\n",
       "    </tr>\n",
       "    <tr>\n",
       "      <th>904</th>\n",
       "      <td>IND</td>\n",
       "      <td>India</td>\n",
       "      <td>Yelesandra Solar Power Plant</td>\n",
       "      <td>WRI1026222</td>\n",
       "      <td>3.0</td>\n",
       "      <td>12.8932</td>\n",
       "      <td>78.1654</td>\n",
       "      <td>Solar</td>\n",
       "      <td>NaN</td>\n",
       "      <td>NaN</td>\n",
       "      <td>...</td>\n",
       "      <td>Industry About</td>\n",
       "      <td>NaN</td>\n",
       "      <td>NaN</td>\n",
       "      <td>NaN</td>\n",
       "      <td>NaN</td>\n",
       "      <td>NaN</td>\n",
       "      <td>NaN</td>\n",
       "      <td>NaN</td>\n",
       "      <td>NaN</td>\n",
       "      <td>NaN</td>\n",
       "    </tr>\n",
       "    <tr>\n",
       "      <th>905</th>\n",
       "      <td>IND</td>\n",
       "      <td>India</td>\n",
       "      <td>Yelisirur wind power project</td>\n",
       "      <td>WRI1026776</td>\n",
       "      <td>25.5</td>\n",
       "      <td>15.2758</td>\n",
       "      <td>75.5811</td>\n",
       "      <td>Wind</td>\n",
       "      <td>NaN</td>\n",
       "      <td>NaN</td>\n",
       "      <td>...</td>\n",
       "      <td>WRI</td>\n",
       "      <td>NaN</td>\n",
       "      <td>NaN</td>\n",
       "      <td>NaN</td>\n",
       "      <td>NaN</td>\n",
       "      <td>NaN</td>\n",
       "      <td>NaN</td>\n",
       "      <td>NaN</td>\n",
       "      <td>NaN</td>\n",
       "      <td>NaN</td>\n",
       "    </tr>\n",
       "    <tr>\n",
       "      <th>906</th>\n",
       "      <td>IND</td>\n",
       "      <td>India</td>\n",
       "      <td>ZAWAR MINES</td>\n",
       "      <td>WRI1019901</td>\n",
       "      <td>80.0</td>\n",
       "      <td>24.3500</td>\n",
       "      <td>73.7477</td>\n",
       "      <td>Coal</td>\n",
       "      <td>NaN</td>\n",
       "      <td>NaN</td>\n",
       "      <td>...</td>\n",
       "      <td>WRI</td>\n",
       "      <td>NaN</td>\n",
       "      <td>NaN</td>\n",
       "      <td>NaN</td>\n",
       "      <td>NaN</td>\n",
       "      <td>NaN</td>\n",
       "      <td>NaN</td>\n",
       "      <td>NaN</td>\n",
       "      <td>NaN</td>\n",
       "      <td>NaN</td>\n",
       "    </tr>\n",
       "    <tr>\n",
       "      <th>907</th>\n",
       "      <td>IND</td>\n",
       "      <td>India</td>\n",
       "      <td>iEnergy Theni Wind Farm</td>\n",
       "      <td>WRI1026761</td>\n",
       "      <td>16.5</td>\n",
       "      <td>9.9344</td>\n",
       "      <td>77.4768</td>\n",
       "      <td>Wind</td>\n",
       "      <td>NaN</td>\n",
       "      <td>NaN</td>\n",
       "      <td>...</td>\n",
       "      <td>WRI</td>\n",
       "      <td>NaN</td>\n",
       "      <td>NaN</td>\n",
       "      <td>NaN</td>\n",
       "      <td>NaN</td>\n",
       "      <td>NaN</td>\n",
       "      <td>NaN</td>\n",
       "      <td>NaN</td>\n",
       "      <td>NaN</td>\n",
       "      <td>NaN</td>\n",
       "    </tr>\n",
       "  </tbody>\n",
       "</table>\n",
       "<p>908 rows × 25 columns</p>\n",
       "</div>"
      ],
      "text/plain": [
       "    country country_long                          name   gppd_idnr  \\\n",
       "0       IND        India              ACME Solar Tower  WRI1020239   \n",
       "1       IND        India           ADITYA CEMENT WORKS  WRI1019881   \n",
       "2       IND        India      AES Saurashtra Windfarms  WRI1026669   \n",
       "3       IND        India                   AGARTALA GT  IND0000001   \n",
       "4       IND        India                  AKALTARA TPP  IND0000002   \n",
       "..      ...          ...                           ...         ...   \n",
       "903     IND        India                  YERMARUS TPP  IND0000513   \n",
       "904     IND        India  Yelesandra Solar Power Plant  WRI1026222   \n",
       "905     IND        India  Yelisirur wind power project  WRI1026776   \n",
       "906     IND        India                   ZAWAR MINES  WRI1019901   \n",
       "907     IND        India       iEnergy Theni Wind Farm  WRI1026761   \n",
       "\n",
       "     capacity_mw  latitude  longitude primary_fuel other_fuel1 other_fuel2  \\\n",
       "0            2.5   28.1839    73.2407        Solar         NaN         NaN   \n",
       "1           98.0   24.7663    74.6090         Coal         NaN         NaN   \n",
       "2           39.2   21.9038    69.3732         Wind         NaN         NaN   \n",
       "3          135.0   23.8712    91.3602          Gas         NaN         NaN   \n",
       "4         1800.0   21.9603    82.4091         Coal         Oil         NaN   \n",
       "..           ...       ...        ...          ...         ...         ...   \n",
       "903       1600.0   16.2949    77.3568         Coal         Oil         NaN   \n",
       "904          3.0   12.8932    78.1654        Solar         NaN         NaN   \n",
       "905         25.5   15.2758    75.5811         Wind         NaN         NaN   \n",
       "906         80.0   24.3500    73.7477         Coal         NaN         NaN   \n",
       "907         16.5    9.9344    77.4768         Wind         NaN         NaN   \n",
       "\n",
       "     ...                    geolocation_source  wepp_id year_of_capacity_data  \\\n",
       "0    ...  National Renewable Energy Laboratory      NaN                   NaN   \n",
       "1    ...                                   WRI      NaN                   NaN   \n",
       "2    ...                                   WRI      NaN                   NaN   \n",
       "3    ...                                   WRI      NaN                2018.0   \n",
       "4    ...                                   WRI      NaN                2018.0   \n",
       "..   ...                                   ...      ...                   ...   \n",
       "903  ...                                   WRI      NaN                2018.0   \n",
       "904  ...                        Industry About      NaN                   NaN   \n",
       "905  ...                                   WRI      NaN                   NaN   \n",
       "906  ...                                   WRI      NaN                   NaN   \n",
       "907  ...                                   WRI      NaN                   NaN   \n",
       "\n",
       "    generation_gwh_2013 generation_gwh_2014 generation_gwh_2015  \\\n",
       "0                   NaN                 NaN                 NaN   \n",
       "1                   NaN                 NaN                 NaN   \n",
       "2                   NaN                 NaN                 NaN   \n",
       "3            631.777928          617.789264          843.747000   \n",
       "4           1668.290000         3035.550000         5916.370000   \n",
       "..                  ...                 ...                 ...   \n",
       "903                 NaN                 NaN            0.994875   \n",
       "904                 NaN                 NaN                 NaN   \n",
       "905                 NaN                 NaN                 NaN   \n",
       "906                 NaN                 NaN                 NaN   \n",
       "907                 NaN                 NaN                 NaN   \n",
       "\n",
       "     generation_gwh_2016  generation_gwh_2017         generation_data_source  \\\n",
       "0                    NaN                  NaN                            NaN   \n",
       "1                    NaN                  NaN                            NaN   \n",
       "2                    NaN                  NaN                            NaN   \n",
       "3             886.004428           663.774500  Central Electricity Authority   \n",
       "4            6243.000000          5385.579736  Central Electricity Authority   \n",
       "..                   ...                  ...                            ...   \n",
       "903           233.596650           865.400000  Central Electricity Authority   \n",
       "904                  NaN                  NaN                            NaN   \n",
       "905                  NaN                  NaN                            NaN   \n",
       "906                  NaN                  NaN                            NaN   \n",
       "907                  NaN                  NaN                            NaN   \n",
       "\n",
       "     estimated_generation_gwh  \n",
       "0                         NaN  \n",
       "1                         NaN  \n",
       "2                         NaN  \n",
       "3                         NaN  \n",
       "4                         NaN  \n",
       "..                        ...  \n",
       "903                       NaN  \n",
       "904                       NaN  \n",
       "905                       NaN  \n",
       "906                       NaN  \n",
       "907                       NaN  \n",
       "\n",
       "[908 rows x 25 columns]"
      ]
     },
     "execution_count": 2,
     "metadata": {},
     "output_type": "execute_result"
    }
   ],
   "source": [
    "df=pd.read_csv(\"global-power-plant-database.csv\")\n",
    "df"
   ]
  },
  {
   "cell_type": "code",
   "execution_count": 3,
   "id": "6899b958",
   "metadata": {},
   "outputs": [
    {
     "data": {
      "text/plain": [
       "(908, 25)"
      ]
     },
     "execution_count": 3,
     "metadata": {},
     "output_type": "execute_result"
    }
   ],
   "source": [
    "df.shape"
   ]
  },
  {
   "cell_type": "markdown",
   "id": "cbaf1fcd",
   "metadata": {},
   "source": [
    "There are 908 rows and 25 columns"
   ]
  },
  {
   "cell_type": "code",
   "execution_count": 4,
   "id": "f1d11008",
   "metadata": {},
   "outputs": [
    {
     "data": {
      "text/plain": [
       "country                      object\n",
       "country_long                 object\n",
       "name                         object\n",
       "gppd_idnr                    object\n",
       "capacity_mw                 float64\n",
       "latitude                    float64\n",
       "longitude                   float64\n",
       "primary_fuel                 object\n",
       "other_fuel1                  object\n",
       "other_fuel2                  object\n",
       "other_fuel3                 float64\n",
       "commissioning_year          float64\n",
       "owner                        object\n",
       "source                       object\n",
       "url                          object\n",
       "geolocation_source           object\n",
       "wepp_id                     float64\n",
       "year_of_capacity_data       float64\n",
       "generation_gwh_2013         float64\n",
       "generation_gwh_2014         float64\n",
       "generation_gwh_2015         float64\n",
       "generation_gwh_2016         float64\n",
       "generation_gwh_2017         float64\n",
       "generation_data_source       object\n",
       "estimated_generation_gwh    float64\n",
       "dtype: object"
      ]
     },
     "execution_count": 4,
     "metadata": {},
     "output_type": "execute_result"
    }
   ],
   "source": [
    "df.dtypes"
   ]
  },
  {
   "cell_type": "markdown",
   "id": "cbd5d656",
   "metadata": {},
   "source": [
    "These are the data types of the variables."
   ]
  },
  {
   "cell_type": "code",
   "execution_count": 5,
   "id": "aa1fc6f4",
   "metadata": {},
   "outputs": [
    {
     "data": {
      "text/html": [
       "<div>\n",
       "<style scoped>\n",
       "    .dataframe tbody tr th:only-of-type {\n",
       "        vertical-align: middle;\n",
       "    }\n",
       "\n",
       "    .dataframe tbody tr th {\n",
       "        vertical-align: top;\n",
       "    }\n",
       "\n",
       "    .dataframe thead th {\n",
       "        text-align: right;\n",
       "    }\n",
       "</style>\n",
       "<table border=\"1\" class=\"dataframe\">\n",
       "  <thead>\n",
       "    <tr style=\"text-align: right;\">\n",
       "      <th></th>\n",
       "      <th>capacity_mw</th>\n",
       "      <th>latitude</th>\n",
       "      <th>longitude</th>\n",
       "      <th>other_fuel3</th>\n",
       "      <th>commissioning_year</th>\n",
       "      <th>wepp_id</th>\n",
       "      <th>year_of_capacity_data</th>\n",
       "      <th>generation_gwh_2013</th>\n",
       "      <th>generation_gwh_2014</th>\n",
       "      <th>generation_gwh_2015</th>\n",
       "      <th>generation_gwh_2016</th>\n",
       "      <th>generation_gwh_2017</th>\n",
       "      <th>estimated_generation_gwh</th>\n",
       "    </tr>\n",
       "  </thead>\n",
       "  <tbody>\n",
       "    <tr>\n",
       "      <th>count</th>\n",
       "      <td>908.000000</td>\n",
       "      <td>862.000000</td>\n",
       "      <td>862.000000</td>\n",
       "      <td>0.0</td>\n",
       "      <td>528.000000</td>\n",
       "      <td>0.0</td>\n",
       "      <td>520.0</td>\n",
       "      <td>384.000000</td>\n",
       "      <td>401.000000</td>\n",
       "      <td>425.000000</td>\n",
       "      <td>437.000000</td>\n",
       "      <td>443.000000</td>\n",
       "      <td>0.0</td>\n",
       "    </tr>\n",
       "    <tr>\n",
       "      <th>mean</th>\n",
       "      <td>321.046378</td>\n",
       "      <td>21.196189</td>\n",
       "      <td>77.447848</td>\n",
       "      <td>NaN</td>\n",
       "      <td>1996.876894</td>\n",
       "      <td>NaN</td>\n",
       "      <td>2018.0</td>\n",
       "      <td>2304.059202</td>\n",
       "      <td>2420.393316</td>\n",
       "      <td>2414.072373</td>\n",
       "      <td>2453.936292</td>\n",
       "      <td>2531.754458</td>\n",
       "      <td>NaN</td>\n",
       "    </tr>\n",
       "    <tr>\n",
       "      <th>std</th>\n",
       "      <td>580.221767</td>\n",
       "      <td>6.248627</td>\n",
       "      <td>4.907260</td>\n",
       "      <td>NaN</td>\n",
       "      <td>17.047817</td>\n",
       "      <td>NaN</td>\n",
       "      <td>0.0</td>\n",
       "      <td>3794.767492</td>\n",
       "      <td>4013.558173</td>\n",
       "      <td>4183.203199</td>\n",
       "      <td>4152.038216</td>\n",
       "      <td>4187.236364</td>\n",
       "      <td>NaN</td>\n",
       "    </tr>\n",
       "    <tr>\n",
       "      <th>min</th>\n",
       "      <td>0.000000</td>\n",
       "      <td>8.168900</td>\n",
       "      <td>68.644700</td>\n",
       "      <td>NaN</td>\n",
       "      <td>1927.000000</td>\n",
       "      <td>NaN</td>\n",
       "      <td>2018.0</td>\n",
       "      <td>0.000000</td>\n",
       "      <td>0.000000</td>\n",
       "      <td>0.000000</td>\n",
       "      <td>0.000000</td>\n",
       "      <td>0.000000</td>\n",
       "      <td>NaN</td>\n",
       "    </tr>\n",
       "    <tr>\n",
       "      <th>25%</th>\n",
       "      <td>16.837500</td>\n",
       "      <td>16.771575</td>\n",
       "      <td>74.258975</td>\n",
       "      <td>NaN</td>\n",
       "      <td>1988.000000</td>\n",
       "      <td>NaN</td>\n",
       "      <td>2018.0</td>\n",
       "      <td>244.458088</td>\n",
       "      <td>223.650436</td>\n",
       "      <td>174.174750</td>\n",
       "      <td>187.193669</td>\n",
       "      <td>177.643170</td>\n",
       "      <td>NaN</td>\n",
       "    </tr>\n",
       "    <tr>\n",
       "      <th>50%</th>\n",
       "      <td>60.000000</td>\n",
       "      <td>21.778300</td>\n",
       "      <td>76.719250</td>\n",
       "      <td>NaN</td>\n",
       "      <td>2000.000000</td>\n",
       "      <td>NaN</td>\n",
       "      <td>2018.0</td>\n",
       "      <td>797.063475</td>\n",
       "      <td>805.760000</td>\n",
       "      <td>701.027250</td>\n",
       "      <td>716.728350</td>\n",
       "      <td>807.601700</td>\n",
       "      <td>NaN</td>\n",
       "    </tr>\n",
       "    <tr>\n",
       "      <th>75%</th>\n",
       "      <td>388.125000</td>\n",
       "      <td>25.516375</td>\n",
       "      <td>79.441475</td>\n",
       "      <td>NaN</td>\n",
       "      <td>2011.250000</td>\n",
       "      <td>NaN</td>\n",
       "      <td>2018.0</td>\n",
       "      <td>2795.021500</td>\n",
       "      <td>3034.575000</td>\n",
       "      <td>3080.000000</td>\n",
       "      <td>3263.483000</td>\n",
       "      <td>3258.785000</td>\n",
       "      <td>NaN</td>\n",
       "    </tr>\n",
       "    <tr>\n",
       "      <th>max</th>\n",
       "      <td>4760.000000</td>\n",
       "      <td>34.649000</td>\n",
       "      <td>95.408000</td>\n",
       "      <td>NaN</td>\n",
       "      <td>2018.000000</td>\n",
       "      <td>NaN</td>\n",
       "      <td>2018.0</td>\n",
       "      <td>27586.200000</td>\n",
       "      <td>28127.000000</td>\n",
       "      <td>30539.000000</td>\n",
       "      <td>30015.000000</td>\n",
       "      <td>35116.000000</td>\n",
       "      <td>NaN</td>\n",
       "    </tr>\n",
       "  </tbody>\n",
       "</table>\n",
       "</div>"
      ],
      "text/plain": [
       "       capacity_mw    latitude   longitude  other_fuel3  commissioning_year  \\\n",
       "count   908.000000  862.000000  862.000000          0.0          528.000000   \n",
       "mean    321.046378   21.196189   77.447848          NaN         1996.876894   \n",
       "std     580.221767    6.248627    4.907260          NaN           17.047817   \n",
       "min       0.000000    8.168900   68.644700          NaN         1927.000000   \n",
       "25%      16.837500   16.771575   74.258975          NaN         1988.000000   \n",
       "50%      60.000000   21.778300   76.719250          NaN         2000.000000   \n",
       "75%     388.125000   25.516375   79.441475          NaN         2011.250000   \n",
       "max    4760.000000   34.649000   95.408000          NaN         2018.000000   \n",
       "\n",
       "       wepp_id  year_of_capacity_data  generation_gwh_2013  \\\n",
       "count      0.0                  520.0           384.000000   \n",
       "mean       NaN                 2018.0          2304.059202   \n",
       "std        NaN                    0.0          3794.767492   \n",
       "min        NaN                 2018.0             0.000000   \n",
       "25%        NaN                 2018.0           244.458088   \n",
       "50%        NaN                 2018.0           797.063475   \n",
       "75%        NaN                 2018.0          2795.021500   \n",
       "max        NaN                 2018.0         27586.200000   \n",
       "\n",
       "       generation_gwh_2014  generation_gwh_2015  generation_gwh_2016  \\\n",
       "count           401.000000           425.000000           437.000000   \n",
       "mean           2420.393316          2414.072373          2453.936292   \n",
       "std            4013.558173          4183.203199          4152.038216   \n",
       "min               0.000000             0.000000             0.000000   \n",
       "25%             223.650436           174.174750           187.193669   \n",
       "50%             805.760000           701.027250           716.728350   \n",
       "75%            3034.575000          3080.000000          3263.483000   \n",
       "max           28127.000000         30539.000000         30015.000000   \n",
       "\n",
       "       generation_gwh_2017  estimated_generation_gwh  \n",
       "count           443.000000                       0.0  \n",
       "mean           2531.754458                       NaN  \n",
       "std            4187.236364                       NaN  \n",
       "min               0.000000                       NaN  \n",
       "25%             177.643170                       NaN  \n",
       "50%             807.601700                       NaN  \n",
       "75%            3258.785000                       NaN  \n",
       "max           35116.000000                       NaN  "
      ]
     },
     "execution_count": 5,
     "metadata": {},
     "output_type": "execute_result"
    }
   ],
   "source": [
    "df.describe()"
   ]
  },
  {
   "cell_type": "markdown",
   "id": "bb879881",
   "metadata": {},
   "source": [
    "described all statistical values"
   ]
  },
  {
   "cell_type": "code",
   "execution_count": 6,
   "id": "c11c3d37",
   "metadata": {},
   "outputs": [
    {
     "data": {
      "text/plain": [
       "country                       0\n",
       "country_long                  0\n",
       "name                          0\n",
       "gppd_idnr                     0\n",
       "capacity_mw                   0\n",
       "latitude                     46\n",
       "longitude                    46\n",
       "primary_fuel                  0\n",
       "other_fuel1                 709\n",
       "other_fuel2                 907\n",
       "other_fuel3                 908\n",
       "commissioning_year          380\n",
       "owner                       566\n",
       "source                        0\n",
       "url                           0\n",
       "geolocation_source           19\n",
       "wepp_id                     908\n",
       "year_of_capacity_data       388\n",
       "generation_gwh_2013         524\n",
       "generation_gwh_2014         507\n",
       "generation_gwh_2015         483\n",
       "generation_gwh_2016         471\n",
       "generation_gwh_2017         465\n",
       "generation_data_source      458\n",
       "estimated_generation_gwh    908\n",
       "dtype: int64"
      ]
     },
     "execution_count": 6,
     "metadata": {},
     "output_type": "execute_result"
    }
   ],
   "source": [
    "df.isnull().sum()"
   ]
  },
  {
   "cell_type": "markdown",
   "id": "a9e0c91a",
   "metadata": {},
   "source": [
    "There are missing values present in the dataset. String data need to be encoded."
   ]
  },
  {
   "cell_type": "code",
   "execution_count": 7,
   "id": "6918261a",
   "metadata": {},
   "outputs": [],
   "source": [
    "df.drop(['estimated_generation_gwh','wepp_id','other_fuel3','other_fuel1','other_fuel2'],axis=1,inplace=True)"
   ]
  },
  {
   "cell_type": "code",
   "execution_count": 8,
   "id": "bf94d5ee",
   "metadata": {},
   "outputs": [
    {
     "data": {
      "text/html": [
       "<div>\n",
       "<style scoped>\n",
       "    .dataframe tbody tr th:only-of-type {\n",
       "        vertical-align: middle;\n",
       "    }\n",
       "\n",
       "    .dataframe tbody tr th {\n",
       "        vertical-align: top;\n",
       "    }\n",
       "\n",
       "    .dataframe thead th {\n",
       "        text-align: right;\n",
       "    }\n",
       "</style>\n",
       "<table border=\"1\" class=\"dataframe\">\n",
       "  <thead>\n",
       "    <tr style=\"text-align: right;\">\n",
       "      <th></th>\n",
       "      <th>country</th>\n",
       "      <th>country_long</th>\n",
       "      <th>name</th>\n",
       "      <th>gppd_idnr</th>\n",
       "      <th>capacity_mw</th>\n",
       "      <th>latitude</th>\n",
       "      <th>longitude</th>\n",
       "      <th>primary_fuel</th>\n",
       "      <th>commissioning_year</th>\n",
       "      <th>owner</th>\n",
       "      <th>source</th>\n",
       "      <th>url</th>\n",
       "      <th>geolocation_source</th>\n",
       "      <th>year_of_capacity_data</th>\n",
       "      <th>generation_gwh_2013</th>\n",
       "      <th>generation_gwh_2014</th>\n",
       "      <th>generation_gwh_2015</th>\n",
       "      <th>generation_gwh_2016</th>\n",
       "      <th>generation_gwh_2017</th>\n",
       "      <th>generation_data_source</th>\n",
       "    </tr>\n",
       "  </thead>\n",
       "  <tbody>\n",
       "    <tr>\n",
       "      <th>0</th>\n",
       "      <td>IND</td>\n",
       "      <td>India</td>\n",
       "      <td>ACME Solar Tower</td>\n",
       "      <td>WRI1020239</td>\n",
       "      <td>2.5</td>\n",
       "      <td>28.1839</td>\n",
       "      <td>73.2407</td>\n",
       "      <td>Solar</td>\n",
       "      <td>2011.0</td>\n",
       "      <td>Solar Paces</td>\n",
       "      <td>National Renewable Energy Laboratory</td>\n",
       "      <td>http://www.nrel.gov/csp/solarpaces/project_det...</td>\n",
       "      <td>National Renewable Energy Laboratory</td>\n",
       "      <td>NaN</td>\n",
       "      <td>NaN</td>\n",
       "      <td>NaN</td>\n",
       "      <td>NaN</td>\n",
       "      <td>NaN</td>\n",
       "      <td>NaN</td>\n",
       "      <td>NaN</td>\n",
       "    </tr>\n",
       "    <tr>\n",
       "      <th>1</th>\n",
       "      <td>IND</td>\n",
       "      <td>India</td>\n",
       "      <td>ADITYA CEMENT WORKS</td>\n",
       "      <td>WRI1019881</td>\n",
       "      <td>98.0</td>\n",
       "      <td>24.7663</td>\n",
       "      <td>74.6090</td>\n",
       "      <td>Coal</td>\n",
       "      <td>NaN</td>\n",
       "      <td>Ultratech Cement ltd</td>\n",
       "      <td>Ultratech Cement ltd</td>\n",
       "      <td>http://www.ultratechcement.com/</td>\n",
       "      <td>WRI</td>\n",
       "      <td>NaN</td>\n",
       "      <td>NaN</td>\n",
       "      <td>NaN</td>\n",
       "      <td>NaN</td>\n",
       "      <td>NaN</td>\n",
       "      <td>NaN</td>\n",
       "      <td>NaN</td>\n",
       "    </tr>\n",
       "    <tr>\n",
       "      <th>2</th>\n",
       "      <td>IND</td>\n",
       "      <td>India</td>\n",
       "      <td>AES Saurashtra Windfarms</td>\n",
       "      <td>WRI1026669</td>\n",
       "      <td>39.2</td>\n",
       "      <td>21.9038</td>\n",
       "      <td>69.3732</td>\n",
       "      <td>Wind</td>\n",
       "      <td>NaN</td>\n",
       "      <td>AES</td>\n",
       "      <td>CDM</td>\n",
       "      <td>https://cdm.unfccc.int/Projects/DB/DNV-CUK1328...</td>\n",
       "      <td>WRI</td>\n",
       "      <td>NaN</td>\n",
       "      <td>NaN</td>\n",
       "      <td>NaN</td>\n",
       "      <td>NaN</td>\n",
       "      <td>NaN</td>\n",
       "      <td>NaN</td>\n",
       "      <td>NaN</td>\n",
       "    </tr>\n",
       "    <tr>\n",
       "      <th>3</th>\n",
       "      <td>IND</td>\n",
       "      <td>India</td>\n",
       "      <td>AGARTALA GT</td>\n",
       "      <td>IND0000001</td>\n",
       "      <td>135.0</td>\n",
       "      <td>23.8712</td>\n",
       "      <td>91.3602</td>\n",
       "      <td>Gas</td>\n",
       "      <td>2004.0</td>\n",
       "      <td>NaN</td>\n",
       "      <td>Central Electricity Authority</td>\n",
       "      <td>http://www.cea.nic.in/</td>\n",
       "      <td>WRI</td>\n",
       "      <td>2018.0</td>\n",
       "      <td>631.777928</td>\n",
       "      <td>617.789264</td>\n",
       "      <td>843.747000</td>\n",
       "      <td>886.004428</td>\n",
       "      <td>663.774500</td>\n",
       "      <td>Central Electricity Authority</td>\n",
       "    </tr>\n",
       "    <tr>\n",
       "      <th>4</th>\n",
       "      <td>IND</td>\n",
       "      <td>India</td>\n",
       "      <td>AKALTARA TPP</td>\n",
       "      <td>IND0000002</td>\n",
       "      <td>1800.0</td>\n",
       "      <td>21.9603</td>\n",
       "      <td>82.4091</td>\n",
       "      <td>Coal</td>\n",
       "      <td>2015.0</td>\n",
       "      <td>NaN</td>\n",
       "      <td>Central Electricity Authority</td>\n",
       "      <td>http://www.cea.nic.in/</td>\n",
       "      <td>WRI</td>\n",
       "      <td>2018.0</td>\n",
       "      <td>1668.290000</td>\n",
       "      <td>3035.550000</td>\n",
       "      <td>5916.370000</td>\n",
       "      <td>6243.000000</td>\n",
       "      <td>5385.579736</td>\n",
       "      <td>Central Electricity Authority</td>\n",
       "    </tr>\n",
       "    <tr>\n",
       "      <th>...</th>\n",
       "      <td>...</td>\n",
       "      <td>...</td>\n",
       "      <td>...</td>\n",
       "      <td>...</td>\n",
       "      <td>...</td>\n",
       "      <td>...</td>\n",
       "      <td>...</td>\n",
       "      <td>...</td>\n",
       "      <td>...</td>\n",
       "      <td>...</td>\n",
       "      <td>...</td>\n",
       "      <td>...</td>\n",
       "      <td>...</td>\n",
       "      <td>...</td>\n",
       "      <td>...</td>\n",
       "      <td>...</td>\n",
       "      <td>...</td>\n",
       "      <td>...</td>\n",
       "      <td>...</td>\n",
       "      <td>...</td>\n",
       "    </tr>\n",
       "    <tr>\n",
       "      <th>903</th>\n",
       "      <td>IND</td>\n",
       "      <td>India</td>\n",
       "      <td>YERMARUS TPP</td>\n",
       "      <td>IND0000513</td>\n",
       "      <td>1600.0</td>\n",
       "      <td>16.2949</td>\n",
       "      <td>77.3568</td>\n",
       "      <td>Coal</td>\n",
       "      <td>2016.0</td>\n",
       "      <td>NaN</td>\n",
       "      <td>Central Electricity Authority</td>\n",
       "      <td>http://www.cea.nic.in/</td>\n",
       "      <td>WRI</td>\n",
       "      <td>2018.0</td>\n",
       "      <td>NaN</td>\n",
       "      <td>NaN</td>\n",
       "      <td>0.994875</td>\n",
       "      <td>233.596650</td>\n",
       "      <td>865.400000</td>\n",
       "      <td>Central Electricity Authority</td>\n",
       "    </tr>\n",
       "    <tr>\n",
       "      <th>904</th>\n",
       "      <td>IND</td>\n",
       "      <td>India</td>\n",
       "      <td>Yelesandra Solar Power Plant</td>\n",
       "      <td>WRI1026222</td>\n",
       "      <td>3.0</td>\n",
       "      <td>12.8932</td>\n",
       "      <td>78.1654</td>\n",
       "      <td>Solar</td>\n",
       "      <td>NaN</td>\n",
       "      <td>Karnataka Power Corporation Limited</td>\n",
       "      <td>Karnataka Power Corporation Limited</td>\n",
       "      <td>http://karnatakapower.com</td>\n",
       "      <td>Industry About</td>\n",
       "      <td>NaN</td>\n",
       "      <td>NaN</td>\n",
       "      <td>NaN</td>\n",
       "      <td>NaN</td>\n",
       "      <td>NaN</td>\n",
       "      <td>NaN</td>\n",
       "      <td>NaN</td>\n",
       "    </tr>\n",
       "    <tr>\n",
       "      <th>905</th>\n",
       "      <td>IND</td>\n",
       "      <td>India</td>\n",
       "      <td>Yelisirur wind power project</td>\n",
       "      <td>WRI1026776</td>\n",
       "      <td>25.5</td>\n",
       "      <td>15.2758</td>\n",
       "      <td>75.5811</td>\n",
       "      <td>Wind</td>\n",
       "      <td>NaN</td>\n",
       "      <td>NaN</td>\n",
       "      <td>CDM</td>\n",
       "      <td>https://cdm.unfccc.int/Projects/DB/TUEV-RHEIN1...</td>\n",
       "      <td>WRI</td>\n",
       "      <td>NaN</td>\n",
       "      <td>NaN</td>\n",
       "      <td>NaN</td>\n",
       "      <td>NaN</td>\n",
       "      <td>NaN</td>\n",
       "      <td>NaN</td>\n",
       "      <td>NaN</td>\n",
       "    </tr>\n",
       "    <tr>\n",
       "      <th>906</th>\n",
       "      <td>IND</td>\n",
       "      <td>India</td>\n",
       "      <td>ZAWAR MINES</td>\n",
       "      <td>WRI1019901</td>\n",
       "      <td>80.0</td>\n",
       "      <td>24.3500</td>\n",
       "      <td>73.7477</td>\n",
       "      <td>Coal</td>\n",
       "      <td>NaN</td>\n",
       "      <td>Hindustan Zinc ltd</td>\n",
       "      <td>Hindustan Zinc ltd</td>\n",
       "      <td>http://www.hzlindia.com/</td>\n",
       "      <td>WRI</td>\n",
       "      <td>NaN</td>\n",
       "      <td>NaN</td>\n",
       "      <td>NaN</td>\n",
       "      <td>NaN</td>\n",
       "      <td>NaN</td>\n",
       "      <td>NaN</td>\n",
       "      <td>NaN</td>\n",
       "    </tr>\n",
       "    <tr>\n",
       "      <th>907</th>\n",
       "      <td>IND</td>\n",
       "      <td>India</td>\n",
       "      <td>iEnergy Theni Wind Farm</td>\n",
       "      <td>WRI1026761</td>\n",
       "      <td>16.5</td>\n",
       "      <td>9.9344</td>\n",
       "      <td>77.4768</td>\n",
       "      <td>Wind</td>\n",
       "      <td>NaN</td>\n",
       "      <td>iEnergy Wind Farms</td>\n",
       "      <td>CDM</td>\n",
       "      <td>https://cdm.unfccc.int/Projects/DB/RWTUV134503...</td>\n",
       "      <td>WRI</td>\n",
       "      <td>NaN</td>\n",
       "      <td>NaN</td>\n",
       "      <td>NaN</td>\n",
       "      <td>NaN</td>\n",
       "      <td>NaN</td>\n",
       "      <td>NaN</td>\n",
       "      <td>NaN</td>\n",
       "    </tr>\n",
       "  </tbody>\n",
       "</table>\n",
       "<p>908 rows × 20 columns</p>\n",
       "</div>"
      ],
      "text/plain": [
       "    country country_long                          name   gppd_idnr  \\\n",
       "0       IND        India              ACME Solar Tower  WRI1020239   \n",
       "1       IND        India           ADITYA CEMENT WORKS  WRI1019881   \n",
       "2       IND        India      AES Saurashtra Windfarms  WRI1026669   \n",
       "3       IND        India                   AGARTALA GT  IND0000001   \n",
       "4       IND        India                  AKALTARA TPP  IND0000002   \n",
       "..      ...          ...                           ...         ...   \n",
       "903     IND        India                  YERMARUS TPP  IND0000513   \n",
       "904     IND        India  Yelesandra Solar Power Plant  WRI1026222   \n",
       "905     IND        India  Yelisirur wind power project  WRI1026776   \n",
       "906     IND        India                   ZAWAR MINES  WRI1019901   \n",
       "907     IND        India       iEnergy Theni Wind Farm  WRI1026761   \n",
       "\n",
       "     capacity_mw  latitude  longitude primary_fuel  commissioning_year  \\\n",
       "0            2.5   28.1839    73.2407        Solar              2011.0   \n",
       "1           98.0   24.7663    74.6090         Coal                 NaN   \n",
       "2           39.2   21.9038    69.3732         Wind                 NaN   \n",
       "3          135.0   23.8712    91.3602          Gas              2004.0   \n",
       "4         1800.0   21.9603    82.4091         Coal              2015.0   \n",
       "..           ...       ...        ...          ...                 ...   \n",
       "903       1600.0   16.2949    77.3568         Coal              2016.0   \n",
       "904          3.0   12.8932    78.1654        Solar                 NaN   \n",
       "905         25.5   15.2758    75.5811         Wind                 NaN   \n",
       "906         80.0   24.3500    73.7477         Coal                 NaN   \n",
       "907         16.5    9.9344    77.4768         Wind                 NaN   \n",
       "\n",
       "                                   owner  \\\n",
       "0                            Solar Paces   \n",
       "1                   Ultratech Cement ltd   \n",
       "2                                    AES   \n",
       "3                                    NaN   \n",
       "4                                    NaN   \n",
       "..                                   ...   \n",
       "903                                  NaN   \n",
       "904  Karnataka Power Corporation Limited   \n",
       "905                                  NaN   \n",
       "906                   Hindustan Zinc ltd   \n",
       "907                   iEnergy Wind Farms   \n",
       "\n",
       "                                   source  \\\n",
       "0    National Renewable Energy Laboratory   \n",
       "1                    Ultratech Cement ltd   \n",
       "2                                     CDM   \n",
       "3           Central Electricity Authority   \n",
       "4           Central Electricity Authority   \n",
       "..                                    ...   \n",
       "903         Central Electricity Authority   \n",
       "904   Karnataka Power Corporation Limited   \n",
       "905                                   CDM   \n",
       "906                    Hindustan Zinc ltd   \n",
       "907                                   CDM   \n",
       "\n",
       "                                                   url  \\\n",
       "0    http://www.nrel.gov/csp/solarpaces/project_det...   \n",
       "1                      http://www.ultratechcement.com/   \n",
       "2    https://cdm.unfccc.int/Projects/DB/DNV-CUK1328...   \n",
       "3                               http://www.cea.nic.in/   \n",
       "4                               http://www.cea.nic.in/   \n",
       "..                                                 ...   \n",
       "903                             http://www.cea.nic.in/   \n",
       "904                          http://karnatakapower.com   \n",
       "905  https://cdm.unfccc.int/Projects/DB/TUEV-RHEIN1...   \n",
       "906                           http://www.hzlindia.com/   \n",
       "907  https://cdm.unfccc.int/Projects/DB/RWTUV134503...   \n",
       "\n",
       "                       geolocation_source  year_of_capacity_data  \\\n",
       "0    National Renewable Energy Laboratory                    NaN   \n",
       "1                                     WRI                    NaN   \n",
       "2                                     WRI                    NaN   \n",
       "3                                     WRI                 2018.0   \n",
       "4                                     WRI                 2018.0   \n",
       "..                                    ...                    ...   \n",
       "903                                   WRI                 2018.0   \n",
       "904                        Industry About                    NaN   \n",
       "905                                   WRI                    NaN   \n",
       "906                                   WRI                    NaN   \n",
       "907                                   WRI                    NaN   \n",
       "\n",
       "     generation_gwh_2013  generation_gwh_2014  generation_gwh_2015  \\\n",
       "0                    NaN                  NaN                  NaN   \n",
       "1                    NaN                  NaN                  NaN   \n",
       "2                    NaN                  NaN                  NaN   \n",
       "3             631.777928           617.789264           843.747000   \n",
       "4            1668.290000          3035.550000          5916.370000   \n",
       "..                   ...                  ...                  ...   \n",
       "903                  NaN                  NaN             0.994875   \n",
       "904                  NaN                  NaN                  NaN   \n",
       "905                  NaN                  NaN                  NaN   \n",
       "906                  NaN                  NaN                  NaN   \n",
       "907                  NaN                  NaN                  NaN   \n",
       "\n",
       "     generation_gwh_2016  generation_gwh_2017         generation_data_source  \n",
       "0                    NaN                  NaN                            NaN  \n",
       "1                    NaN                  NaN                            NaN  \n",
       "2                    NaN                  NaN                            NaN  \n",
       "3             886.004428           663.774500  Central Electricity Authority  \n",
       "4            6243.000000          5385.579736  Central Electricity Authority  \n",
       "..                   ...                  ...                            ...  \n",
       "903           233.596650           865.400000  Central Electricity Authority  \n",
       "904                  NaN                  NaN                            NaN  \n",
       "905                  NaN                  NaN                            NaN  \n",
       "906                  NaN                  NaN                            NaN  \n",
       "907                  NaN                  NaN                            NaN  \n",
       "\n",
       "[908 rows x 20 columns]"
      ]
     },
     "execution_count": 8,
     "metadata": {},
     "output_type": "execute_result"
    }
   ],
   "source": [
    "df"
   ]
  },
  {
   "cell_type": "markdown",
   "id": "8d5ce745",
   "metadata": {},
   "source": [
    "We cut the the 5 columns which is having more null values, to get good prediction."
   ]
  },
  {
   "cell_type": "code",
   "execution_count": 9,
   "id": "a03b1609",
   "metadata": {},
   "outputs": [
    {
     "data": {
      "text/plain": [
       "array(['IND'], dtype=object)"
      ]
     },
     "execution_count": 9,
     "metadata": {},
     "output_type": "execute_result"
    }
   ],
   "source": [
    "df['country'].unique() "
   ]
  },
  {
   "cell_type": "code",
   "execution_count": 10,
   "id": "551b0426",
   "metadata": {},
   "outputs": [
    {
     "data": {
      "text/plain": [
       "array(['India'], dtype=object)"
      ]
     },
     "execution_count": 10,
     "metadata": {},
     "output_type": "execute_result"
    }
   ],
   "source": [
    "df['country_long'].unique() "
   ]
  },
  {
   "cell_type": "markdown",
   "id": "2ecd8106",
   "metadata": {},
   "source": [
    "There are one value in these columns so we can drop that also"
   ]
  },
  {
   "cell_type": "code",
   "execution_count": 11,
   "id": "16cff51d",
   "metadata": {},
   "outputs": [],
   "source": [
    "df.drop(['country','country_long'],axis=1,inplace=True)"
   ]
  },
  {
   "cell_type": "code",
   "execution_count": 12,
   "id": "b62edf20",
   "metadata": {},
   "outputs": [],
   "source": [
    "df.drop(['year_of_capacity_data','name','url'],axis=1,inplace=True)"
   ]
  },
  {
   "cell_type": "markdown",
   "id": "399bfd0c",
   "metadata": {},
   "source": [
    "Dropped all the columns which is not necessary"
   ]
  },
  {
   "cell_type": "code",
   "execution_count": 13,
   "id": "7bc4d713",
   "metadata": {},
   "outputs": [
    {
     "data": {
      "text/plain": [
       "array(['Solar', 'Coal', 'Wind', 'Gas', 'Hydro', 'Biomass', 'Oil',\n",
       "       'Nuclear'], dtype=object)"
      ]
     },
     "execution_count": 13,
     "metadata": {},
     "output_type": "execute_result"
    }
   ],
   "source": [
    "df['primary_fuel'].unique()"
   ]
  },
  {
   "cell_type": "code",
   "execution_count": 14,
   "id": "47d9691a",
   "metadata": {},
   "outputs": [],
   "source": [
    "df['geolocation_source'].fillna(df['geolocation_source'].mode()[0],inplace=True)"
   ]
  },
  {
   "cell_type": "markdown",
   "id": "901666d7",
   "metadata": {},
   "source": [
    "filled geolocation_source with mode because category data"
   ]
  },
  {
   "cell_type": "code",
   "execution_count": 15,
   "id": "fbd63141",
   "metadata": {},
   "outputs": [],
   "source": [
    "df.fillna(df.median()[0],inplace=True)"
   ]
  },
  {
   "cell_type": "markdown",
   "id": "4d7c8219",
   "metadata": {},
   "source": [
    "filled null values with median in numerical data."
   ]
  },
  {
   "cell_type": "code",
   "execution_count": 16,
   "id": "e2b46d04",
   "metadata": {},
   "outputs": [
    {
     "data": {
      "text/plain": [
       "gppd_idnr                 0\n",
       "capacity_mw               0\n",
       "latitude                  0\n",
       "longitude                 0\n",
       "primary_fuel              0\n",
       "commissioning_year        0\n",
       "owner                     0\n",
       "source                    0\n",
       "geolocation_source        0\n",
       "generation_gwh_2013       0\n",
       "generation_gwh_2014       0\n",
       "generation_gwh_2015       0\n",
       "generation_gwh_2016       0\n",
       "generation_gwh_2017       0\n",
       "generation_data_source    0\n",
       "dtype: int64"
      ]
     },
     "execution_count": 16,
     "metadata": {},
     "output_type": "execute_result"
    }
   ],
   "source": [
    "df.isnull().sum()"
   ]
  },
  {
   "cell_type": "markdown",
   "id": "7ba27e99",
   "metadata": {},
   "source": [
    "Removed all null values"
   ]
  },
  {
   "cell_type": "code",
   "execution_count": 17,
   "id": "30550a65",
   "metadata": {},
   "outputs": [
    {
     "data": {
      "text/html": [
       "<div>\n",
       "<style scoped>\n",
       "    .dataframe tbody tr th:only-of-type {\n",
       "        vertical-align: middle;\n",
       "    }\n",
       "\n",
       "    .dataframe tbody tr th {\n",
       "        vertical-align: top;\n",
       "    }\n",
       "\n",
       "    .dataframe thead th {\n",
       "        text-align: right;\n",
       "    }\n",
       "</style>\n",
       "<table border=\"1\" class=\"dataframe\">\n",
       "  <thead>\n",
       "    <tr style=\"text-align: right;\">\n",
       "      <th></th>\n",
       "      <th>capacity_mw</th>\n",
       "      <th>latitude</th>\n",
       "      <th>longitude</th>\n",
       "      <th>commissioning_year</th>\n",
       "      <th>generation_gwh_2013</th>\n",
       "      <th>generation_gwh_2014</th>\n",
       "      <th>generation_gwh_2015</th>\n",
       "      <th>generation_gwh_2016</th>\n",
       "      <th>generation_gwh_2017</th>\n",
       "    </tr>\n",
       "  </thead>\n",
       "  <tbody>\n",
       "    <tr>\n",
       "      <th>count</th>\n",
       "      <td>908.000000</td>\n",
       "      <td>908.000000</td>\n",
       "      <td>908.000000</td>\n",
       "      <td>908.000000</td>\n",
       "      <td>908.000000</td>\n",
       "      <td>908.000000</td>\n",
       "      <td>908.000000</td>\n",
       "      <td>908.000000</td>\n",
       "      <td>908.000000</td>\n",
       "    </tr>\n",
       "    <tr>\n",
       "      <th>mean</th>\n",
       "      <td>321.046378</td>\n",
       "      <td>23.162021</td>\n",
       "      <td>76.563926</td>\n",
       "      <td>1186.289648</td>\n",
       "      <td>1009.029442</td>\n",
       "      <td>1102.420396</td>\n",
       "      <td>1161.851056</td>\n",
       "      <td>1212.147753</td>\n",
       "      <td>1265.933067</td>\n",
       "    </tr>\n",
       "    <tr>\n",
       "      <th>std</th>\n",
       "      <td>580.221767</td>\n",
       "      <td>10.467197</td>\n",
       "      <td>6.125132</td>\n",
       "      <td>956.102221</td>\n",
       "      <td>2703.921589</td>\n",
       "      <td>2911.965280</td>\n",
       "      <td>3092.202997</td>\n",
       "      <td>3117.593315</td>\n",
       "      <td>3173.696579</td>\n",
       "    </tr>\n",
       "    <tr>\n",
       "      <th>min</th>\n",
       "      <td>0.000000</td>\n",
       "      <td>8.168900</td>\n",
       "      <td>60.000000</td>\n",
       "      <td>60.000000</td>\n",
       "      <td>0.000000</td>\n",
       "      <td>0.000000</td>\n",
       "      <td>0.000000</td>\n",
       "      <td>0.000000</td>\n",
       "      <td>0.000000</td>\n",
       "    </tr>\n",
       "    <tr>\n",
       "      <th>25%</th>\n",
       "      <td>16.837500</td>\n",
       "      <td>17.057825</td>\n",
       "      <td>73.812975</td>\n",
       "      <td>60.000000</td>\n",
       "      <td>60.000000</td>\n",
       "      <td>60.000000</td>\n",
       "      <td>60.000000</td>\n",
       "      <td>60.000000</td>\n",
       "      <td>60.000000</td>\n",
       "    </tr>\n",
       "    <tr>\n",
       "      <th>50%</th>\n",
       "      <td>60.000000</td>\n",
       "      <td>22.137800</td>\n",
       "      <td>76.492900</td>\n",
       "      <td>1978.000000</td>\n",
       "      <td>60.000000</td>\n",
       "      <td>60.000000</td>\n",
       "      <td>60.000000</td>\n",
       "      <td>60.000000</td>\n",
       "      <td>60.000000</td>\n",
       "    </tr>\n",
       "    <tr>\n",
       "      <th>75%</th>\n",
       "      <td>388.125000</td>\n",
       "      <td>26.740475</td>\n",
       "      <td>79.211600</td>\n",
       "      <td>2003.000000</td>\n",
       "      <td>470.116200</td>\n",
       "      <td>570.095213</td>\n",
       "      <td>605.769975</td>\n",
       "      <td>669.808766</td>\n",
       "      <td>708.134037</td>\n",
       "    </tr>\n",
       "    <tr>\n",
       "      <th>max</th>\n",
       "      <td>4760.000000</td>\n",
       "      <td>60.000000</td>\n",
       "      <td>95.408000</td>\n",
       "      <td>2018.000000</td>\n",
       "      <td>27586.200000</td>\n",
       "      <td>28127.000000</td>\n",
       "      <td>30539.000000</td>\n",
       "      <td>30015.000000</td>\n",
       "      <td>35116.000000</td>\n",
       "    </tr>\n",
       "  </tbody>\n",
       "</table>\n",
       "</div>"
      ],
      "text/plain": [
       "       capacity_mw    latitude   longitude  commissioning_year  \\\n",
       "count   908.000000  908.000000  908.000000          908.000000   \n",
       "mean    321.046378   23.162021   76.563926         1186.289648   \n",
       "std     580.221767   10.467197    6.125132          956.102221   \n",
       "min       0.000000    8.168900   60.000000           60.000000   \n",
       "25%      16.837500   17.057825   73.812975           60.000000   \n",
       "50%      60.000000   22.137800   76.492900         1978.000000   \n",
       "75%     388.125000   26.740475   79.211600         2003.000000   \n",
       "max    4760.000000   60.000000   95.408000         2018.000000   \n",
       "\n",
       "       generation_gwh_2013  generation_gwh_2014  generation_gwh_2015  \\\n",
       "count           908.000000           908.000000           908.000000   \n",
       "mean           1009.029442          1102.420396          1161.851056   \n",
       "std            2703.921589          2911.965280          3092.202997   \n",
       "min               0.000000             0.000000             0.000000   \n",
       "25%              60.000000            60.000000            60.000000   \n",
       "50%              60.000000            60.000000            60.000000   \n",
       "75%             470.116200           570.095213           605.769975   \n",
       "max           27586.200000         28127.000000         30539.000000   \n",
       "\n",
       "       generation_gwh_2016  generation_gwh_2017  \n",
       "count           908.000000           908.000000  \n",
       "mean           1212.147753          1265.933067  \n",
       "std            3117.593315          3173.696579  \n",
       "min               0.000000             0.000000  \n",
       "25%              60.000000            60.000000  \n",
       "50%              60.000000            60.000000  \n",
       "75%             669.808766           708.134037  \n",
       "max           30015.000000         35116.000000  "
      ]
     },
     "execution_count": 17,
     "metadata": {},
     "output_type": "execute_result"
    }
   ],
   "source": [
    "df.describe()"
   ]
  },
  {
   "cell_type": "markdown",
   "id": "e90a71cd",
   "metadata": {},
   "source": [
    "It gives the statistical values of the mew dataset after removing the columns"
   ]
  },
  {
   "cell_type": "code",
   "execution_count": 18,
   "id": "cf1193f4",
   "metadata": {},
   "outputs": [
    {
     "data": {
      "text/plain": [
       "(908, 15)"
      ]
     },
     "execution_count": 18,
     "metadata": {},
     "output_type": "execute_result"
    }
   ],
   "source": [
    "df.shape"
   ]
  },
  {
   "cell_type": "markdown",
   "id": "2cb83a79",
   "metadata": {},
   "source": [
    "Now there are only 908 rows and 15 columns"
   ]
  },
  {
   "cell_type": "markdown",
   "id": "b807d296",
   "metadata": {},
   "source": [
    "# EDA"
   ]
  },
  {
   "cell_type": "markdown",
   "id": "d9db8402",
   "metadata": {},
   "source": [
    "Univariate analysis"
   ]
  },
  {
   "cell_type": "code",
   "execution_count": 19,
   "id": "0a195baf",
   "metadata": {},
   "outputs": [
    {
     "data": {
      "image/png": "[encoded data removed]",
      "text/plain": [
       "<Figure size 432x288 with 1 Axes>"
      ]
     },
     "metadata": {
      "needs_background": "light"
     },
     "output_type": "display_data"
    }
   ],
   "source": [
    "sn.countplot(df['primary_fuel']);"
   ]
  },
  {
   "cell_type": "markdown",
   "id": "34296503",
   "metadata": {},
   "source": [
    "It describes the distribution of primary_fuel.  Its not equally distributed."
   ]
  },
  {
   "cell_type": "code",
   "execution_count": 20,
   "id": "f4801271",
   "metadata": {},
   "outputs": [
    {
     "data": {
      "text/html": [
       "<div>\n",
       "<style scoped>\n",
       "    .dataframe tbody tr th:only-of-type {\n",
       "        vertical-align: middle;\n",
       "    }\n",
       "\n",
       "    .dataframe tbody tr th {\n",
       "        vertical-align: top;\n",
       "    }\n",
       "\n",
       "    .dataframe thead th {\n",
       "        text-align: right;\n",
       "    }\n",
       "</style>\n",
       "<table border=\"1\" class=\"dataframe\">\n",
       "  <thead>\n",
       "    <tr style=\"text-align: right;\">\n",
       "      <th></th>\n",
       "      <th>gppd_idnr</th>\n",
       "      <th>capacity_mw</th>\n",
       "      <th>latitude</th>\n",
       "      <th>longitude</th>\n",
       "      <th>primary_fuel</th>\n",
       "      <th>commissioning_year</th>\n",
       "      <th>owner</th>\n",
       "      <th>source</th>\n",
       "      <th>geolocation_source</th>\n",
       "      <th>generation_gwh_2013</th>\n",
       "      <th>generation_gwh_2014</th>\n",
       "      <th>generation_gwh_2015</th>\n",
       "      <th>generation_gwh_2016</th>\n",
       "      <th>generation_gwh_2017</th>\n",
       "      <th>generation_data_source</th>\n",
       "    </tr>\n",
       "  </thead>\n",
       "  <tbody>\n",
       "    <tr>\n",
       "      <th>0</th>\n",
       "      <td>WRI1020239</td>\n",
       "      <td>2.5</td>\n",
       "      <td>28.1839</td>\n",
       "      <td>73.2407</td>\n",
       "      <td>Solar</td>\n",
       "      <td>2011.0</td>\n",
       "      <td>Solar Paces</td>\n",
       "      <td>National Renewable Energy Laboratory</td>\n",
       "      <td>National Renewable Energy Laboratory</td>\n",
       "      <td>60.000000</td>\n",
       "      <td>60.000000</td>\n",
       "      <td>60.000</td>\n",
       "      <td>60.000000</td>\n",
       "      <td>60.000000</td>\n",
       "      <td>60.0</td>\n",
       "    </tr>\n",
       "    <tr>\n",
       "      <th>1</th>\n",
       "      <td>WRI1019881</td>\n",
       "      <td>98.0</td>\n",
       "      <td>24.7663</td>\n",
       "      <td>74.6090</td>\n",
       "      <td>Coal</td>\n",
       "      <td>60.0</td>\n",
       "      <td>Ultratech Cement ltd</td>\n",
       "      <td>Ultratech Cement ltd</td>\n",
       "      <td>WRI</td>\n",
       "      <td>60.000000</td>\n",
       "      <td>60.000000</td>\n",
       "      <td>60.000</td>\n",
       "      <td>60.000000</td>\n",
       "      <td>60.000000</td>\n",
       "      <td>60.0</td>\n",
       "    </tr>\n",
       "    <tr>\n",
       "      <th>2</th>\n",
       "      <td>WRI1026669</td>\n",
       "      <td>39.2</td>\n",
       "      <td>21.9038</td>\n",
       "      <td>69.3732</td>\n",
       "      <td>Wind</td>\n",
       "      <td>60.0</td>\n",
       "      <td>AES</td>\n",
       "      <td>CDM</td>\n",
       "      <td>WRI</td>\n",
       "      <td>60.000000</td>\n",
       "      <td>60.000000</td>\n",
       "      <td>60.000</td>\n",
       "      <td>60.000000</td>\n",
       "      <td>60.000000</td>\n",
       "      <td>60.0</td>\n",
       "    </tr>\n",
       "    <tr>\n",
       "      <th>3</th>\n",
       "      <td>IND0000001</td>\n",
       "      <td>135.0</td>\n",
       "      <td>23.8712</td>\n",
       "      <td>91.3602</td>\n",
       "      <td>Gas</td>\n",
       "      <td>2004.0</td>\n",
       "      <td>60.0</td>\n",
       "      <td>Central Electricity Authority</td>\n",
       "      <td>WRI</td>\n",
       "      <td>631.777928</td>\n",
       "      <td>617.789264</td>\n",
       "      <td>843.747</td>\n",
       "      <td>886.004428</td>\n",
       "      <td>663.774500</td>\n",
       "      <td>Central Electricity Authority</td>\n",
       "    </tr>\n",
       "    <tr>\n",
       "      <th>4</th>\n",
       "      <td>IND0000002</td>\n",
       "      <td>1800.0</td>\n",
       "      <td>21.9603</td>\n",
       "      <td>82.4091</td>\n",
       "      <td>Coal</td>\n",
       "      <td>2015.0</td>\n",
       "      <td>60.0</td>\n",
       "      <td>Central Electricity Authority</td>\n",
       "      <td>WRI</td>\n",
       "      <td>1668.290000</td>\n",
       "      <td>3035.550000</td>\n",
       "      <td>5916.370</td>\n",
       "      <td>6243.000000</td>\n",
       "      <td>5385.579736</td>\n",
       "      <td>Central Electricity Authority</td>\n",
       "    </tr>\n",
       "  </tbody>\n",
       "</table>\n",
       "</div>"
      ],
      "text/plain": [
       "    gppd_idnr  capacity_mw  latitude  longitude primary_fuel  \\\n",
       "0  WRI1020239          2.5   28.1839    73.2407        Solar   \n",
       "1  WRI1019881         98.0   24.7663    74.6090         Coal   \n",
       "2  WRI1026669         39.2   21.9038    69.3732         Wind   \n",
       "3  IND0000001        135.0   23.8712    91.3602          Gas   \n",
       "4  IND0000002       1800.0   21.9603    82.4091         Coal   \n",
       "\n",
       "   commissioning_year                 owner  \\\n",
       "0              2011.0           Solar Paces   \n",
       "1                60.0  Ultratech Cement ltd   \n",
       "2                60.0                   AES   \n",
       "3              2004.0                  60.0   \n",
       "4              2015.0                  60.0   \n",
       "\n",
       "                                 source                    geolocation_source  \\\n",
       "0  National Renewable Energy Laboratory  National Renewable Energy Laboratory   \n",
       "1                  Ultratech Cement ltd                                   WRI   \n",
       "2                                   CDM                                   WRI   \n",
       "3         Central Electricity Authority                                   WRI   \n",
       "4         Central Electricity Authority                                   WRI   \n",
       "\n",
       "   generation_gwh_2013  generation_gwh_2014  generation_gwh_2015  \\\n",
       "0            60.000000            60.000000               60.000   \n",
       "1            60.000000            60.000000               60.000   \n",
       "2            60.000000            60.000000               60.000   \n",
       "3           631.777928           617.789264              843.747   \n",
       "4          1668.290000          3035.550000             5916.370   \n",
       "\n",
       "   generation_gwh_2016  generation_gwh_2017         generation_data_source  \n",
       "0            60.000000            60.000000                           60.0  \n",
       "1            60.000000            60.000000                           60.0  \n",
       "2            60.000000            60.000000                           60.0  \n",
       "3           886.004428           663.774500  Central Electricity Authority  \n",
       "4          6243.000000          5385.579736  Central Electricity Authority  "
      ]
     },
     "execution_count": 20,
     "metadata": {},
     "output_type": "execute_result"
    }
   ],
   "source": [
    "df.head()"
   ]
  },
  {
   "cell_type": "code",
   "execution_count": 21,
   "id": "90757987",
   "metadata": {},
   "outputs": [
    {
     "data": {
      "text/plain": [
       "Index(['gppd_idnr', 'capacity_mw', 'latitude', 'longitude', 'primary_fuel',\n",
       "       'commissioning_year', 'owner', 'source', 'geolocation_source',\n",
       "       'generation_gwh_2013', 'generation_gwh_2014', 'generation_gwh_2015',\n",
       "       'generation_gwh_2016', 'generation_gwh_2017', 'generation_data_source'],\n",
       "      dtype='object')"
      ]
     },
     "execution_count": 21,
     "metadata": {},
     "output_type": "execute_result"
    }
   ],
   "source": [
    "df.columns"
   ]
  },
  {
   "cell_type": "markdown",
   "id": "46a86085",
   "metadata": {},
   "source": [
    "These are the columns in the dataset"
   ]
  },
  {
   "cell_type": "code",
   "execution_count": 22,
   "id": "3184e971",
   "metadata": {},
   "outputs": [
    {
     "data": {
      "text/plain": [
       "<seaborn.axisgrid.FacetGrid at 0x268b32eefd0>"
      ]
     },
     "execution_count": 22,
     "metadata": {},
     "output_type": "execute_result"
    },
    {
     "data": {
      "image/png": "[encoded data removed]",
      "text/plain": [
       "<Figure size 360x360 with 1 Axes>"
      ]
     },
     "metadata": {
      "needs_background": "light"
     },
     "output_type": "display_data"
    }
   ],
   "source": [
    "sn.displot(df[\"gppd_idnr\"])"
   ]
  },
  {
   "cell_type": "code",
   "execution_count": 23,
   "id": "9a9f8e39",
   "metadata": {},
   "outputs": [
    {
     "data": {
      "text/plain": [
       "<seaborn.axisgrid.FacetGrid at 0x268b1989d60>"
      ]
     },
     "execution_count": 23,
     "metadata": {},
     "output_type": "execute_result"
    },
    {
     "data": {
      "image/png": "[encoded data removed]",
      "text/plain": [
       "<Figure size 360x360 with 1 Axes>"
      ]
     },
     "metadata": {
      "needs_background": "light"
     },
     "output_type": "display_data"
    }
   ],
   "source": [
    "sn.displot(df[\"capacity_mw\"])"
   ]
  },
  {
   "cell_type": "markdown",
   "id": "49604412",
   "metadata": {},
   "source": [
    "Its right skewed"
   ]
  },
  {
   "cell_type": "code",
   "execution_count": 24,
   "id": "faa8043f",
   "metadata": {},
   "outputs": [
    {
     "data": {
      "text/plain": [
       "<seaborn.axisgrid.FacetGrid at 0x268add4e2b0>"
      ]
     },
     "execution_count": 24,
     "metadata": {},
     "output_type": "execute_result"
    },
    {
     "data": {
      "image/png": "[encoded data removed]",
      "text/plain": [
       "<Figure size 360x360 with 1 Axes>"
      ]
     },
     "metadata": {
      "needs_background": "light"
     },
     "output_type": "display_data"
    }
   ],
   "source": [
    "sn.displot(df[\"latitude\"])"
   ]
  },
  {
   "cell_type": "markdown",
   "id": "d381ce50",
   "metadata": {},
   "source": [
    "its not normaly distributed"
   ]
  },
  {
   "cell_type": "code",
   "execution_count": 25,
   "id": "2a729087",
   "metadata": {},
   "outputs": [
    {
     "data": {
      "text/plain": [
       "<seaborn.axisgrid.FacetGrid at 0x268b3c2c190>"
      ]
     },
     "execution_count": 25,
     "metadata": {},
     "output_type": "execute_result"
    },
    {
     "data": {
      "image/png": "[encoded data removed]",
      "text/plain": [
       "<Figure size 360x360 with 1 Axes>"
      ]
     },
     "metadata": {
      "needs_background": "light"
     },
     "output_type": "display_data"
    }
   ],
   "source": [
    "sn.displot(df[\"gppd_idnr\"])"
   ]
  },
  {
   "cell_type": "code",
   "execution_count": 26,
   "id": "c0507a56",
   "metadata": {},
   "outputs": [
    {
     "data": {
      "text/plain": [
       "<seaborn.axisgrid.FacetGrid at 0x268b654dbe0>"
      ]
     },
     "execution_count": 26,
     "metadata": {},
     "output_type": "execute_result"
    },
    {
     "data": {
      "image/png": "[encoded data removed]",
      "text/plain": [
       "<Figure size 360x360 with 1 Axes>"
      ]
     },
     "metadata": {
      "needs_background": "light"
     },
     "output_type": "display_data"
    }
   ],
   "source": [
    "sn.displot(df[\"longitude\"])"
   ]
  },
  {
   "cell_type": "markdown",
   "id": "df14207b",
   "metadata": {},
   "source": [
    "Its almost normaly distributed"
   ]
  },
  {
   "cell_type": "code",
   "execution_count": 27,
   "id": "2b98d7c0",
   "metadata": {},
   "outputs": [
    {
     "data": {
      "text/plain": [
       "<seaborn.axisgrid.FacetGrid at 0x268b3b8f820>"
      ]
     },
     "execution_count": 27,
     "metadata": {},
     "output_type": "execute_result"
    },
    {
     "data": {
      "image/png": "[encoded data removed]",
      "text/plain": [
       "<Figure size 360x360 with 1 Axes>"
      ]
     },
     "metadata": {
      "needs_background": "light"
     },
     "output_type": "display_data"
    }
   ],
   "source": [
    "sn.displot(df[\"commissioning_year\"])"
   ]
  },
  {
   "cell_type": "markdown",
   "id": "5595c075",
   "metadata": {},
   "source": [
    "Its not normaly distributed"
   ]
  },
  {
   "cell_type": "code",
   "execution_count": 28,
   "id": "6a181645",
   "metadata": {},
   "outputs": [
    {
     "data": {
      "text/plain": [
       "<seaborn.axisgrid.FacetGrid at 0x268b5a37ee0>"
      ]
     },
     "execution_count": 28,
     "metadata": {},
     "output_type": "execute_result"
    },
    {
     "data": {
      "image/png": "[encoded data removed]",
      "text/plain": [
       "<Figure size 360x360 with 1 Axes>"
      ]
     },
     "metadata": {
      "needs_background": "light"
     },
     "output_type": "display_data"
    }
   ],
   "source": [
    "sn.displot(df[\"source\"])"
   ]
  },
  {
   "cell_type": "markdown",
   "id": "fba14aa0",
   "metadata": {},
   "source": [
    "There is skewness present in it"
   ]
  },
  {
   "cell_type": "code",
   "execution_count": 29,
   "id": "19168ad6",
   "metadata": {},
   "outputs": [
    {
     "data": {
      "text/plain": [
       "<seaborn.axisgrid.FacetGrid at 0x268b6995610>"
      ]
     },
     "execution_count": 29,
     "metadata": {},
     "output_type": "execute_result"
    },
    {
     "data": {
      "image/png": "[encoded data removed]",
      "text/plain": [
       "<Figure size 360x360 with 1 Axes>"
      ]
     },
     "metadata": {
      "needs_background": "light"
     },
     "output_type": "display_data"
    }
   ],
   "source": [
    "sn.displot(df[\"geolocation_source\"])"
   ]
  },
  {
   "cell_type": "markdown",
   "id": "d7ef6c53",
   "metadata": {},
   "source": [
    "This also not normaly distribued"
   ]
  },
  {
   "cell_type": "markdown",
   "id": "ea44c001",
   "metadata": {},
   "source": [
    "# Bivariate analysis"
   ]
  },
  {
   "cell_type": "code",
   "execution_count": 30,
   "id": "22170ca1",
   "metadata": {},
   "outputs": [
    {
     "data": {
      "text/plain": [
       "<AxesSubplot:title={'center':'comparison between capacity_mw and generation_gwh_2013'}, xlabel='capacity_mw', ylabel='generation_gwh_2013'>"
      ]
     },
     "execution_count": 30,
     "metadata": {},
     "output_type": "execute_result"
    },
    {
     "data": {
      "image/png": "[encoded data removed]",
      "text/plain": [
       "<Figure size 720x432 with 1 Axes>"
      ]
     },
     "metadata": {
      "needs_background": "light"
     },
     "output_type": "display_data"
    }
   ],
   "source": [
    "plt.figure(figsize=[10,6])\n",
    "plt.title(\"comparison between capacity_mw and generation_gwh_2013\")\n",
    "sn.scatterplot(df['capacity_mw'],df['generation_gwh_2013'],hue=df[\"capacity_mw\"])"
   ]
  },
  {
   "cell_type": "markdown",
   "id": "cb2bd9a3",
   "metadata": {},
   "source": [
    "This is the distribution of generation_gwh_2013 against capacity_mw.  There are outliers present in it."
   ]
  },
  {
   "cell_type": "code",
   "execution_count": 31,
   "id": "a1239399",
   "metadata": {},
   "outputs": [
    {
     "data": {
      "text/plain": [
       "<AxesSubplot:title={'center':'comparison between capacity_mw and generation_gwh_2013'}, xlabel='capacity_mw', ylabel='generation_gwh_2014'>"
      ]
     },
     "execution_count": 31,
     "metadata": {},
     "output_type": "execute_result"
    },
    {
     "data": {
      "image/png": "[encoded data removed]",
      "text/plain": [
       "<Figure size 720x432 with 1 Axes>"
      ]
     },
     "metadata": {
      "needs_background": "light"
     },
     "output_type": "display_data"
    }
   ],
   "source": [
    "plt.figure(figsize=[10,6])\n",
    "plt.title(\"comparison between capacity_mw and generation_gwh_2013\")\n",
    "sn.scatterplot(df['capacity_mw'],df['generation_gwh_2014'],hue=df[\"capacity_mw\"])"
   ]
  },
  {
   "cell_type": "markdown",
   "id": "a0e4dc76",
   "metadata": {},
   "source": [
    "This is the distribution of generation_gwh_2014 against capacity_mw. There are outliers present in it."
   ]
  },
  {
   "cell_type": "code",
   "execution_count": 32,
   "id": "31040b46",
   "metadata": {},
   "outputs": [
    {
     "data": {
      "text/plain": [
       "<AxesSubplot:title={'center':'comparison between capacity_mw and generation_gwh_2015'}, xlabel='capacity_mw', ylabel='generation_gwh_2015'>"
      ]
     },
     "execution_count": 32,
     "metadata": {},
     "output_type": "execute_result"
    },
    {
     "data": {
      "image/png": "[encoded data removed]",
      "text/plain": [
       "<Figure size 720x432 with 1 Axes>"
      ]
     },
     "metadata": {
      "needs_background": "light"
     },
     "output_type": "display_data"
    }
   ],
   "source": [
    "plt.figure(figsize=[10,6])\n",
    "plt.title(\"comparison between capacity_mw and generation_gwh_2015\")\n",
    "sn.scatterplot(df['capacity_mw'],df['generation_gwh_2015'],hue=df[\"capacity_mw\"])"
   ]
  },
  {
   "cell_type": "markdown",
   "id": "16c7e1a8",
   "metadata": {},
   "source": [
    "This is the distribution of generation_gwh_2015 against capacity_mw. There are outliers present in it."
   ]
  },
  {
   "cell_type": "code",
   "execution_count": 33,
   "id": "09b98c89",
   "metadata": {},
   "outputs": [
    {
     "data": {
      "text/plain": [
       "<AxesSubplot:title={'center':'comparison between capacity_mw and generation_gwh_2016'}, xlabel='capacity_mw', ylabel='generation_gwh_2016'>"
      ]
     },
     "execution_count": 33,
     "metadata": {},
     "output_type": "execute_result"
    },
    {
     "data": {
      "image/png": "[encoded data removed]",
      "text/plain": [
       "<Figure size 720x432 with 1 Axes>"
      ]
     },
     "metadata": {
      "needs_background": "light"
     },
     "output_type": "display_data"
    }
   ],
   "source": [
    "plt.figure(figsize=[10,6])\n",
    "plt.title(\"comparison between capacity_mw and generation_gwh_2016\")\n",
    "sn.scatterplot(df['capacity_mw'],df['generation_gwh_2016'],hue=df[\"capacity_mw\"])"
   ]
  },
  {
   "cell_type": "markdown",
   "id": "9a0433a8",
   "metadata": {},
   "source": [
    "This is the distribution of generation_gwh_2016 against capacity_mw. There are outliers present in it."
   ]
  },
  {
   "cell_type": "code",
   "execution_count": 34,
   "id": "a9ea5be3",
   "metadata": {},
   "outputs": [
    {
     "data": {
      "text/plain": [
       "<AxesSubplot:title={'center':'comparison between capacity_mw and generation_gwh_2017'}, xlabel='capacity_mw', ylabel='generation_gwh_2017'>"
      ]
     },
     "execution_count": 34,
     "metadata": {},
     "output_type": "execute_result"
    },
    {
     "data": {
      "image/png": "[encoded data removed]",
      "text/plain": [
       "<Figure size 720x432 with 1 Axes>"
      ]
     },
     "metadata": {
      "needs_background": "light"
     },
     "output_type": "display_data"
    }
   ],
   "source": [
    "plt.figure(figsize=[10,6])\n",
    "plt.title(\"comparison between capacity_mw and generation_gwh_2017\")\n",
    "sn.scatterplot(df['capacity_mw'],df['generation_gwh_2017'],hue=df[\"capacity_mw\"])"
   ]
  },
  {
   "cell_type": "markdown",
   "id": "9dcade86",
   "metadata": {},
   "source": [
    "This is the distribution of generation_gwh_2017 against capacity_mw. There are outliers present in it."
   ]
  },
  {
   "cell_type": "code",
   "execution_count": 35,
   "id": "bb4bd654",
   "metadata": {},
   "outputs": [
    {
     "data": {
      "text/plain": [
       "<AxesSubplot:title={'center':'comparison between primary_fuel and generation_gwh_2017'}, xlabel='primary_fuel', ylabel='generation_gwh_2017'>"
      ]
     },
     "execution_count": 35,
     "metadata": {},
     "output_type": "execute_result"
    },
    {
     "data": {
      "image/png": "[encoded data removed]",
      "text/plain": [
       "<Figure size 720x432 with 1 Axes>"
      ]
     },
     "metadata": {
      "needs_background": "light"
     },
     "output_type": "display_data"
    }
   ],
   "source": [
    "plt.figure(figsize=[10,6])\n",
    "plt.title(\"comparison between primary_fuel and generation_gwh_2017\")\n",
    "sn.scatterplot(df['primary_fuel'],df['generation_gwh_2017'],hue=df[\"primary_fuel\"])"
   ]
  },
  {
   "cell_type": "markdown",
   "id": "c32c0255",
   "metadata": {},
   "source": [
    "This is the distribution of generation_gwh_2017 against primary_fuel. "
   ]
  },
  {
   "cell_type": "code",
   "execution_count": 36,
   "id": "c17066cf",
   "metadata": {},
   "outputs": [
    {
     "data": {
      "text/plain": [
       "<AxesSubplot:title={'center':'comparison between primary_fuel and generation_gwh_2016'}, xlabel='primary_fuel', ylabel='generation_gwh_2016'>"
      ]
     },
     "execution_count": 36,
     "metadata": {},
     "output_type": "execute_result"
    },
    {
     "data": {
      "image/png": "[encoded data removed]",
      "text/plain": [
       "<Figure size 720x432 with 1 Axes>"
      ]
     },
     "metadata": {
      "needs_background": "light"
     },
     "output_type": "display_data"
    }
   ],
   "source": [
    "plt.figure(figsize=[10,6])\n",
    "plt.title(\"comparison between primary_fuel and generation_gwh_2016\")\n",
    "sn.scatterplot(df['primary_fuel'],df['generation_gwh_2016'],hue=df[\"primary_fuel\"])"
   ]
  },
  {
   "cell_type": "markdown",
   "id": "1a92a0c6",
   "metadata": {},
   "source": [
    "This is the distribution of generation_gwh_2016 against primary_fuel."
   ]
  },
  {
   "cell_type": "code",
   "execution_count": 37,
   "id": "42b23fd8",
   "metadata": {},
   "outputs": [
    {
     "data": {
      "text/plain": [
       "<AxesSubplot:title={'center':'comparison between primary_fuel and generation_gwh_2015'}, xlabel='primary_fuel', ylabel='generation_gwh_2015'>"
      ]
     },
     "execution_count": 37,
     "metadata": {},
     "output_type": "execute_result"
    },
    {
     "data": {
      "image/png": "[encoded data removed]",
      "text/plain": [
       "<Figure size 720x432 with 1 Axes>"
      ]
     },
     "metadata": {
      "needs_background": "light"
     },
     "output_type": "display_data"
    }
   ],
   "source": [
    "plt.figure(figsize=[10,6])\n",
    "plt.title(\"comparison between primary_fuel and generation_gwh_2015\")\n",
    "sn.scatterplot(df['primary_fuel'],df['generation_gwh_2015'],hue=df[\"primary_fuel\"])"
   ]
  },
  {
   "cell_type": "markdown",
   "id": "c15eb42c",
   "metadata": {},
   "source": [
    "This is the distribution of generation_gwh_2015 against primary_fuel."
   ]
  },
  {
   "cell_type": "code",
   "execution_count": 38,
   "id": "b626bed9",
   "metadata": {},
   "outputs": [
    {
     "data": {
      "text/plain": [
       "<AxesSubplot:title={'center':'comparison between primary_fuel and generation_gwh_2014'}, xlabel='primary_fuel', ylabel='generation_gwh_2014'>"
      ]
     },
     "execution_count": 38,
     "metadata": {},
     "output_type": "execute_result"
    },
    {
     "data": {
      "image/png": "[encoded data removed]",
      "text/plain": [
       "<Figure size 720x432 with 1 Axes>"
      ]
     },
     "metadata": {
      "needs_background": "light"
     },
     "output_type": "display_data"
    }
   ],
   "source": [
    "plt.figure(figsize=[10,6])\n",
    "plt.title(\"comparison between primary_fuel and generation_gwh_2014\")\n",
    "sn.scatterplot(df['primary_fuel'],df['generation_gwh_2014'],hue=df[\"primary_fuel\"])"
   ]
  },
  {
   "cell_type": "markdown",
   "id": "b82b011a",
   "metadata": {},
   "source": [
    "This is the distribution of generation_gwh_2014 against primary_fuel."
   ]
  },
  {
   "cell_type": "code",
   "execution_count": 39,
   "id": "295b7ad0",
   "metadata": {},
   "outputs": [
    {
     "data": {
      "text/html": [
       "<div>\n",
       "<style scoped>\n",
       "    .dataframe tbody tr th:only-of-type {\n",
       "        vertical-align: middle;\n",
       "    }\n",
       "\n",
       "    .dataframe tbody tr th {\n",
       "        vertical-align: top;\n",
       "    }\n",
       "\n",
       "    .dataframe thead th {\n",
       "        text-align: right;\n",
       "    }\n",
       "</style>\n",
       "<table border=\"1\" class=\"dataframe\">\n",
       "  <thead>\n",
       "    <tr style=\"text-align: right;\">\n",
       "      <th></th>\n",
       "      <th>capacity_mw</th>\n",
       "      <th>latitude</th>\n",
       "      <th>longitude</th>\n",
       "      <th>commissioning_year</th>\n",
       "      <th>generation_gwh_2013</th>\n",
       "      <th>generation_gwh_2014</th>\n",
       "      <th>generation_gwh_2015</th>\n",
       "      <th>generation_gwh_2016</th>\n",
       "      <th>generation_gwh_2017</th>\n",
       "    </tr>\n",
       "  </thead>\n",
       "  <tbody>\n",
       "    <tr>\n",
       "      <th>capacity_mw</th>\n",
       "      <td>1.000000</td>\n",
       "      <td>-0.055235</td>\n",
       "      <td>0.218567</td>\n",
       "      <td>0.413675</td>\n",
       "      <td>0.775344</td>\n",
       "      <td>0.826067</td>\n",
       "      <td>0.851752</td>\n",
       "      <td>0.885536</td>\n",
       "      <td>0.901065</td>\n",
       "    </tr>\n",
       "    <tr>\n",
       "      <th>latitude</th>\n",
       "      <td>-0.055235</td>\n",
       "      <td>1.000000</td>\n",
       "      <td>-0.494141</td>\n",
       "      <td>0.087553</td>\n",
       "      <td>-0.029970</td>\n",
       "      <td>-0.029666</td>\n",
       "      <td>-0.030536</td>\n",
       "      <td>-0.031956</td>\n",
       "      <td>-0.025636</td>\n",
       "    </tr>\n",
       "    <tr>\n",
       "      <th>longitude</th>\n",
       "      <td>0.218567</td>\n",
       "      <td>-0.494141</td>\n",
       "      <td>1.000000</td>\n",
       "      <td>0.300270</td>\n",
       "      <td>0.156698</td>\n",
       "      <td>0.162828</td>\n",
       "      <td>0.172761</td>\n",
       "      <td>0.189201</td>\n",
       "      <td>0.202744</td>\n",
       "    </tr>\n",
       "    <tr>\n",
       "      <th>commissioning_year</th>\n",
       "      <td>0.413675</td>\n",
       "      <td>0.087553</td>\n",
       "      <td>0.300270</td>\n",
       "      <td>1.000000</td>\n",
       "      <td>0.298716</td>\n",
       "      <td>0.305196</td>\n",
       "      <td>0.304374</td>\n",
       "      <td>0.316101</td>\n",
       "      <td>0.325180</td>\n",
       "    </tr>\n",
       "    <tr>\n",
       "      <th>generation_gwh_2013</th>\n",
       "      <td>0.775344</td>\n",
       "      <td>-0.029970</td>\n",
       "      <td>0.156698</td>\n",
       "      <td>0.298716</td>\n",
       "      <td>1.000000</td>\n",
       "      <td>0.972775</td>\n",
       "      <td>0.911665</td>\n",
       "      <td>0.881082</td>\n",
       "      <td>0.843036</td>\n",
       "    </tr>\n",
       "    <tr>\n",
       "      <th>generation_gwh_2014</th>\n",
       "      <td>0.826067</td>\n",
       "      <td>-0.029666</td>\n",
       "      <td>0.162828</td>\n",
       "      <td>0.305196</td>\n",
       "      <td>0.972775</td>\n",
       "      <td>1.000000</td>\n",
       "      <td>0.966617</td>\n",
       "      <td>0.937817</td>\n",
       "      <td>0.907399</td>\n",
       "    </tr>\n",
       "    <tr>\n",
       "      <th>generation_gwh_2015</th>\n",
       "      <td>0.851752</td>\n",
       "      <td>-0.030536</td>\n",
       "      <td>0.172761</td>\n",
       "      <td>0.304374</td>\n",
       "      <td>0.911665</td>\n",
       "      <td>0.966617</td>\n",
       "      <td>1.000000</td>\n",
       "      <td>0.974645</td>\n",
       "      <td>0.943752</td>\n",
       "    </tr>\n",
       "    <tr>\n",
       "      <th>generation_gwh_2016</th>\n",
       "      <td>0.885536</td>\n",
       "      <td>-0.031956</td>\n",
       "      <td>0.189201</td>\n",
       "      <td>0.316101</td>\n",
       "      <td>0.881082</td>\n",
       "      <td>0.937817</td>\n",
       "      <td>0.974645</td>\n",
       "      <td>1.000000</td>\n",
       "      <td>0.976285</td>\n",
       "    </tr>\n",
       "    <tr>\n",
       "      <th>generation_gwh_2017</th>\n",
       "      <td>0.901065</td>\n",
       "      <td>-0.025636</td>\n",
       "      <td>0.202744</td>\n",
       "      <td>0.325180</td>\n",
       "      <td>0.843036</td>\n",
       "      <td>0.907399</td>\n",
       "      <td>0.943752</td>\n",
       "      <td>0.976285</td>\n",
       "      <td>1.000000</td>\n",
       "    </tr>\n",
       "  </tbody>\n",
       "</table>\n",
       "</div>"
      ],
      "text/plain": [
       "                     capacity_mw  latitude  longitude  commissioning_year  \\\n",
       "capacity_mw             1.000000 -0.055235   0.218567            0.413675   \n",
       "latitude               -0.055235  1.000000  -0.494141            0.087553   \n",
       "longitude               0.218567 -0.494141   1.000000            0.300270   \n",
       "commissioning_year      0.413675  0.087553   0.300270            1.000000   \n",
       "generation_gwh_2013     0.775344 -0.029970   0.156698            0.298716   \n",
       "generation_gwh_2014     0.826067 -0.029666   0.162828            0.305196   \n",
       "generation_gwh_2015     0.851752 -0.030536   0.172761            0.304374   \n",
       "generation_gwh_2016     0.885536 -0.031956   0.189201            0.316101   \n",
       "generation_gwh_2017     0.901065 -0.025636   0.202744            0.325180   \n",
       "\n",
       "                     generation_gwh_2013  generation_gwh_2014  \\\n",
       "capacity_mw                     0.775344             0.826067   \n",
       "latitude                       -0.029970            -0.029666   \n",
       "longitude                       0.156698             0.162828   \n",
       "commissioning_year              0.298716             0.305196   \n",
       "generation_gwh_2013             1.000000             0.972775   \n",
       "generation_gwh_2014             0.972775             1.000000   \n",
       "generation_gwh_2015             0.911665             0.966617   \n",
       "generation_gwh_2016             0.881082             0.937817   \n",
       "generation_gwh_2017             0.843036             0.907399   \n",
       "\n",
       "                     generation_gwh_2015  generation_gwh_2016  \\\n",
       "capacity_mw                     0.851752             0.885536   \n",
       "latitude                       -0.030536            -0.031956   \n",
       "longitude                       0.172761             0.189201   \n",
       "commissioning_year              0.304374             0.316101   \n",
       "generation_gwh_2013             0.911665             0.881082   \n",
       "generation_gwh_2014             0.966617             0.937817   \n",
       "generation_gwh_2015             1.000000             0.974645   \n",
       "generation_gwh_2016             0.974645             1.000000   \n",
       "generation_gwh_2017             0.943752             0.976285   \n",
       "\n",
       "                     generation_gwh_2017  \n",
       "capacity_mw                     0.901065  \n",
       "latitude                       -0.025636  \n",
       "longitude                       0.202744  \n",
       "commissioning_year              0.325180  \n",
       "generation_gwh_2013             0.843036  \n",
       "generation_gwh_2014             0.907399  \n",
       "generation_gwh_2015             0.943752  \n",
       "generation_gwh_2016             0.976285  \n",
       "generation_gwh_2017             1.000000  "
      ]
     },
     "execution_count": 39,
     "metadata": {},
     "output_type": "execute_result"
    }
   ],
   "source": [
    "cor=df.corr()\n",
    "cor"
   ]
  },
  {
   "cell_type": "markdown",
   "id": "261c3a76",
   "metadata": {},
   "source": [
    "These are the coorelation of the data"
   ]
  },
  {
   "cell_type": "code",
   "execution_count": 40,
   "id": "b0998b56",
   "metadata": {},
   "outputs": [
    {
     "data": {
      "text/plain": [
       "<AxesSubplot:>"
      ]
     },
     "execution_count": 40,
     "metadata": {},
     "output_type": "execute_result"
    },
    {
     "data": {
      "image/png": "[encoded data removed]",
      "text/plain": [
       "<Figure size 2160x1440 with 2 Axes>"
      ]
     },
     "metadata": {
      "needs_background": "light"
     },
     "output_type": "display_data"
    }
   ],
   "source": [
    "plt.figure(figsize=[30,20])\n",
    "sn.heatmap(cor,annot=True,linewidths=6,linecolor='r')"
   ]
  },
  {
   "cell_type": "markdown",
   "id": "3f4846d6",
   "metadata": {},
   "source": [
    "Here we can see that all independent variables are positively correlated with capacity_mw except latitude "
   ]
  },
  {
   "cell_type": "code",
   "execution_count": 41,
   "id": "d2c31dcd",
   "metadata": {},
   "outputs": [
    {
     "data": {
      "text/plain": [
       "capacity_mw               AxesSubplot(0.125,0.536818;0.0945122x0.343182)\n",
       "latitude               AxesSubplot(0.238415,0.536818;0.0945122x0.343182)\n",
       "longitude              AxesSubplot(0.351829,0.536818;0.0945122x0.343182)\n",
       "commissioning_year     AxesSubplot(0.465244,0.536818;0.0945122x0.343182)\n",
       "generation_gwh_2013    AxesSubplot(0.578659,0.536818;0.0945122x0.343182)\n",
       "generation_gwh_2014    AxesSubplot(0.692073,0.536818;0.0945122x0.343182)\n",
       "generation_gwh_2015    AxesSubplot(0.805488,0.536818;0.0945122x0.343182)\n",
       "generation_gwh_2016          AxesSubplot(0.125,0.125;0.0945122x0.343182)\n",
       "generation_gwh_2017       AxesSubplot(0.238415,0.125;0.0945122x0.343182)\n",
       "dtype: object"
      ]
     },
     "execution_count": 41,
     "metadata": {},
     "output_type": "execute_result"
    },
    {
     "data": {
      "image/png": "[encoded data removed]",
      "text/plain": [
       "<Figure size 432x288 with 14 Axes>"
      ]
     },
     "metadata": {
      "needs_background": "light"
     },
     "output_type": "display_data"
    }
   ],
   "source": [
    "df.plot(kind=\"box\",subplots=True,layout=(2,7))"
   ]
  },
  {
   "cell_type": "markdown",
   "id": "90b653f1",
   "metadata": {},
   "source": [
    "We can see that except one column , all other columns are having the outliers"
   ]
  },
  {
   "cell_type": "markdown",
   "id": "e675e154",
   "metadata": {},
   "source": [
    "# Converting string data into numerical data by using LabelEncoder"
   ]
  },
  {
   "cell_type": "code",
   "execution_count": 42,
   "id": "fa960461",
   "metadata": {},
   "outputs": [],
   "source": [
    "from sklearn.preprocessing import LabelEncoder\n",
    "le=LabelEncoder()\n"
   ]
  },
  {
   "cell_type": "code",
   "execution_count": 43,
   "id": "721f6f52",
   "metadata": {},
   "outputs": [],
   "source": [
    "df['primary_fuel']=le.fit_transform(df['primary_fuel'])\n",
    "df['geolocation_source']=le.fit_transform(df['geolocation_source'])\n",
    "df['source']=le.fit_transform(df['source'])"
   ]
  },
  {
   "cell_type": "code",
   "execution_count": 44,
   "id": "ef2a474e",
   "metadata": {},
   "outputs": [],
   "source": [
    "df.drop(['owner','generation_data_source'],axis=1,inplace=True)"
   ]
  },
  {
   "cell_type": "markdown",
   "id": "5b596968",
   "metadata": {},
   "source": [
    "These columns are not effecting the result more, so we removed these 2 columns also"
   ]
  },
  {
   "cell_type": "code",
   "execution_count": 45,
   "id": "865a45bf",
   "metadata": {},
   "outputs": [],
   "source": [
    "df.drop(['gppd_idnr'],axis=1,inplace=True)"
   ]
  },
  {
   "cell_type": "markdown",
   "id": "5fd68580",
   "metadata": {},
   "source": [
    "dropped gppd_idnr also which is not necessary"
   ]
  },
  {
   "cell_type": "code",
   "execution_count": 46,
   "id": "15384418",
   "metadata": {},
   "outputs": [
    {
     "data": {
      "text/plain": [
       "capacity_mw            float64\n",
       "latitude               float64\n",
       "longitude              float64\n",
       "primary_fuel             int32\n",
       "commissioning_year     float64\n",
       "source                   int32\n",
       "geolocation_source       int32\n",
       "generation_gwh_2013    float64\n",
       "generation_gwh_2014    float64\n",
       "generation_gwh_2015    float64\n",
       "generation_gwh_2016    float64\n",
       "generation_gwh_2017    float64\n",
       "dtype: object"
      ]
     },
     "execution_count": 46,
     "metadata": {},
     "output_type": "execute_result"
    }
   ],
   "source": [
    "df.dtypes"
   ]
  },
  {
   "cell_type": "markdown",
   "id": "ad387332",
   "metadata": {},
   "source": [
    "Now all the datas converted from string to numerical data"
   ]
  },
  {
   "cell_type": "code",
   "execution_count": 47,
   "id": "7a1a90f7",
   "metadata": {},
   "outputs": [
    {
     "data": {
      "text/plain": [
       "(908, 12)"
      ]
     },
     "execution_count": 47,
     "metadata": {},
     "output_type": "execute_result"
    }
   ],
   "source": [
    "df.shape"
   ]
  },
  {
   "cell_type": "markdown",
   "id": "98ff2575",
   "metadata": {},
   "source": [
    "There are only 12 columns now."
   ]
  },
  {
   "cell_type": "markdown",
   "id": "a1768331",
   "metadata": {},
   "source": [
    "# Outlier Remover"
   ]
  },
  {
   "cell_type": "code",
   "execution_count": 48,
   "id": "15452170",
   "metadata": {},
   "outputs": [],
   "source": [
    "from scipy.stats import zscore"
   ]
  },
  {
   "cell_type": "code",
   "execution_count": 49,
   "id": "100052f7",
   "metadata": {},
   "outputs": [],
   "source": [
    "z=np.abs(zscore(df))\n",
    "df1=df[(z<3).all(axis=1)]"
   ]
  },
  {
   "cell_type": "markdown",
   "id": "f77899f7",
   "metadata": {},
   "source": [
    "# skewness"
   ]
  },
  {
   "cell_type": "code",
   "execution_count": 50,
   "id": "8f80d9cc",
   "metadata": {},
   "outputs": [
    {
     "data": {
      "text/plain": [
       "capacity_mw            1.949155\n",
       "latitude              -0.132610\n",
       "longitude              1.112451\n",
       "primary_fuel           0.465309\n",
       "commissioning_year    -0.300155\n",
       "source                 1.791079\n",
       "geolocation_source    -2.065369\n",
       "generation_gwh_2013    2.862191\n",
       "generation_gwh_2014    2.737880\n",
       "generation_gwh_2015    2.560720\n",
       "generation_gwh_2016    2.516122\n",
       "generation_gwh_2017    2.424944\n",
       "dtype: float64"
      ]
     },
     "execution_count": 50,
     "metadata": {},
     "output_type": "execute_result"
    }
   ],
   "source": [
    "df1.skew()"
   ]
  },
  {
   "cell_type": "markdown",
   "id": "0803add2",
   "metadata": {},
   "source": [
    "There are skewness present in some columns, which skewness is more thea =/- 0.5 will be treated"
   ]
  },
  {
   "cell_type": "code",
   "execution_count": 51,
   "id": "0fffee0b",
   "metadata": {},
   "outputs": [],
   "source": [
    "from sklearn.preprocessing import power_transform"
   ]
  },
  {
   "cell_type": "code",
   "execution_count": 52,
   "id": "a851315d",
   "metadata": {},
   "outputs": [],
   "source": [
    "df[['generation_gwh_2013','generation_gwh_2014','generation_gwh_2015','generation_gwh_2016','generation_gwh_2017']]=power_transform(df[['generation_gwh_2013','generation_gwh_2014','generation_gwh_2015','generation_gwh_2016','generation_gwh_2017']])"
   ]
  },
  {
   "cell_type": "code",
   "execution_count": 53,
   "id": "ebe09068",
   "metadata": {},
   "outputs": [
    {
     "data": {
      "text/plain": [
       "capacity_mw            3.193257\n",
       "latitude               1.989326\n",
       "longitude             -0.200583\n",
       "primary_fuel           0.471141\n",
       "commissioning_year    -0.330398\n",
       "source                 1.829145\n",
       "geolocation_source    -2.161710\n",
       "generation_gwh_2013   -0.045187\n",
       "generation_gwh_2014   -0.023540\n",
       "generation_gwh_2015   -0.019746\n",
       "generation_gwh_2016   -0.015463\n",
       "generation_gwh_2017   -0.009629\n",
       "dtype: float64"
      ]
     },
     "execution_count": 53,
     "metadata": {},
     "output_type": "execute_result"
    }
   ],
   "source": [
    "df.skew()"
   ]
  },
  {
   "cell_type": "code",
   "execution_count": 54,
   "id": "edd36b49",
   "metadata": {},
   "outputs": [],
   "source": [
    "df[['capacity_mw','latitude','source','geolocation_source']]=power_transform(df[['capacity_mw','latitude','source','geolocation_source']])"
   ]
  },
  {
   "cell_type": "code",
   "execution_count": 55,
   "id": "d1ecc9f4",
   "metadata": {},
   "outputs": [],
   "source": [
    "df[['geolocation_source']]=power_transform(df[['geolocation_source']])"
   ]
  },
  {
   "cell_type": "code",
   "execution_count": 56,
   "id": "3e4930b0",
   "metadata": {},
   "outputs": [
    {
     "data": {
      "text/plain": [
       "capacity_mw            0.020461\n",
       "latitude              -0.014472\n",
       "longitude             -0.200583\n",
       "primary_fuel           0.471141\n",
       "commissioning_year    -0.330398\n",
       "source                -0.214850\n",
       "geolocation_source    -2.133973\n",
       "generation_gwh_2013   -0.045187\n",
       "generation_gwh_2014   -0.023540\n",
       "generation_gwh_2015   -0.019746\n",
       "generation_gwh_2016   -0.015463\n",
       "generation_gwh_2017   -0.009629\n",
       "dtype: float64"
      ]
     },
     "execution_count": 56,
     "metadata": {},
     "output_type": "execute_result"
    }
   ],
   "source": [
    "df.skew()"
   ]
  },
  {
   "cell_type": "markdown",
   "id": "48e722e2",
   "metadata": {},
   "source": [
    "Removed the skewness"
   ]
  },
  {
   "cell_type": "markdown",
   "id": "98ca159f",
   "metadata": {},
   "source": [
    "# Dividing Data into x and y\n",
    "treating capacity_mw as a target and treating like regression"
   ]
  },
  {
   "cell_type": "code",
   "execution_count": 57,
   "id": "5c214de5",
   "metadata": {},
   "outputs": [],
   "source": [
    "x=df.drop([\"capacity_mw\"],axis=1)\n",
    "y=df['capacity_mw']"
   ]
  },
  {
   "cell_type": "code",
   "execution_count": 58,
   "id": "f7151db1",
   "metadata": {},
   "outputs": [
    {
     "data": {
      "text/plain": [
       "(908, 11)"
      ]
     },
     "execution_count": 58,
     "metadata": {},
     "output_type": "execute_result"
    }
   ],
   "source": [
    "x.shape"
   ]
  },
  {
   "cell_type": "code",
   "execution_count": 59,
   "id": "0441d665",
   "metadata": {},
   "outputs": [
    {
     "data": {
      "text/plain": [
       "(908,)"
      ]
     },
     "execution_count": 59,
     "metadata": {},
     "output_type": "execute_result"
    }
   ],
   "source": [
    "y.shape"
   ]
  },
  {
   "cell_type": "markdown",
   "id": "54e2de0c",
   "metadata": {},
   "source": [
    "# scaling"
   ]
  },
  {
   "cell_type": "code",
   "execution_count": 60,
   "id": "9a57657c",
   "metadata": {},
   "outputs": [],
   "source": [
    "from sklearn.preprocessing import MinMaxScaler\n",
    "\n",
    "sc=MinMaxScaler()\n",
    "x=sc.fit_transform(x)"
   ]
  },
  {
   "cell_type": "markdown",
   "id": "89508f31",
   "metadata": {},
   "source": [
    "done the scaling"
   ]
  },
  {
   "cell_type": "markdown",
   "id": "7c3fd9a6",
   "metadata": {},
   "source": [
    "# Splitting the Data for Training and Testing"
   ]
  },
  {
   "cell_type": "code",
   "execution_count": 61,
   "id": "43eefea5",
   "metadata": {},
   "outputs": [],
   "source": [
    "from sklearn.metrics import mean_squared_error,mean_absolute_error\n",
    "from sklearn.metrics import r2_score\n",
    "from sklearn.model_selection import train_test_split\n",
    "from sklearn.model_selection import cross_val_score\n",
    "from sklearn.linear_model import LinearRegression\n",
    "lr=LinearRegression()"
   ]
  },
  {
   "cell_type": "markdown",
   "id": "2dd3b7ec",
   "metadata": {},
   "source": [
    "# Find the best random states use here"
   ]
  },
  {
   "cell_type": "code",
   "execution_count": 62,
   "id": "97b9c531",
   "metadata": {},
   "outputs": [],
   "source": [
    "x_train,x_test,y_train,y_test=train_test_split(x,y,test_size=.2,random_state=12)"
   ]
  },
  {
   "cell_type": "code",
   "execution_count": 63,
   "id": "aeda9b78",
   "metadata": {},
   "outputs": [
    {
     "data": {
      "text/plain": [
       "LinearRegression()"
      ]
     },
     "execution_count": 63,
     "metadata": {},
     "output_type": "execute_result"
    }
   ],
   "source": [
    "lr.fit(x_train,y_train)"
   ]
  },
  {
   "cell_type": "markdown",
   "id": "ee2c3866",
   "metadata": {},
   "source": [
    "linear regression fitting into x-train and y-train"
   ]
  },
  {
   "cell_type": "code",
   "execution_count": 64,
   "id": "8e743582",
   "metadata": {},
   "outputs": [
    {
     "data": {
      "text/plain": [
       "array([-0.10255173,  0.06687405, -0.53922728,  0.53931212, -0.51291356,\n",
       "        0.44736151,  0.01636431,  0.08494297,  0.69084734,  0.62091839,\n",
       "        0.90050804])"
      ]
     },
     "execution_count": 64,
     "metadata": {},
     "output_type": "execute_result"
    }
   ],
   "source": [
    "lr.coef_"
   ]
  },
  {
   "cell_type": "markdown",
   "id": "9ce486b1",
   "metadata": {},
   "source": [
    "Got the linear regression coefficient"
   ]
  },
  {
   "cell_type": "code",
   "execution_count": 65,
   "id": "d7376285",
   "metadata": {},
   "outputs": [
    {
     "data": {
      "text/plain": [
       "-1.2532719880573338"
      ]
     },
     "execution_count": 65,
     "metadata": {},
     "output_type": "execute_result"
    }
   ],
   "source": [
    "lr.intercept_"
   ]
  },
  {
   "cell_type": "markdown",
   "id": "009ebade",
   "metadata": {},
   "source": [
    "Got the linear regression constant"
   ]
  },
  {
   "cell_type": "code",
   "execution_count": 66,
   "id": "a516c554",
   "metadata": {},
   "outputs": [],
   "source": [
    "pred_test=lr.predict(x_test)"
   ]
  },
  {
   "cell_type": "code",
   "execution_count": 67,
   "id": "c86eb94d",
   "metadata": {},
   "outputs": [
    {
     "name": "stdout",
     "output_type": "stream",
     "text": [
      "predicted value is [ 0.57732149  1.32239352 -0.33952976  1.04122639 -0.51905682 -1.25405924\n",
      "  0.69724375 -1.23977702  0.94406224  1.2478069   0.38173404  1.13880995\n",
      "  0.21778233 -0.30218844 -0.39032353  0.02650701  0.87787063 -1.21333886\n",
      " -0.23635675  0.84807666  0.87272724  0.52711146  0.15634594  1.45492369\n",
      "  0.23297749  1.24407326  0.43592233 -1.23048437  0.82802251  0.76896987\n",
      "  0.56780877  1.1765788   1.23562183 -0.81047575 -0.68999367 -0.73104043\n",
      " -0.67948445  1.12687034  0.34834423  1.12062195 -1.12662709 -0.67560341\n",
      "  0.84733708  0.54202326 -0.74956319 -1.24318128 -0.373706    0.42612935\n",
      " -1.13644762  0.87895902  0.00595978  0.12371755  0.28047547 -0.3571075\n",
      " -1.18610652  0.82929533 -0.72791222 -0.81047575  1.26400563  1.40867729\n",
      "  0.73205529 -0.73851482  0.78466822  0.4532087  -0.74438206  0.57645216\n",
      " -0.30970199 -0.30105107 -0.30381829 -0.26894865  0.85714652  0.07069126\n",
      " -1.22322687  1.40876709 -0.33128483 -0.2851223   0.60780592  1.36805113\n",
      " -0.74339782  0.36485073 -1.14131474 -0.71671442 -0.23121964 -0.74429911\n",
      "  0.89421516 -1.23427196  0.21518162 -0.34058983 -1.24133445  0.92597944\n",
      "  0.11141344  1.10878457 -0.74356072 -1.17535866  0.31691697 -1.22132279\n",
      "  0.17540947  0.11113241 -0.75232942  0.48417818  1.03486617 -0.7445645\n",
      "  1.19208914 -1.03163035  1.14118046  0.41762196 -0.71302441 -0.35065418\n",
      "  1.07939381  0.02265085  1.47244814  0.58438429 -0.27252462  0.94300776\n",
      "  0.11967786 -1.20146875  1.06534407 -1.21369962  0.08351582 -0.33508615\n",
      "  0.94407474  0.83150638 -1.21589749  1.31244802 -0.31178556 -0.23301141\n",
      "  0.52847256 -0.30599975  1.28549225  0.63198908 -0.03591751  1.19267749\n",
      " -0.31346171 -0.81047575  0.11406357 -0.37320423  1.21742845 -1.05161409\n",
      " -1.20097216  0.19943181 -0.74762416 -1.07052278  0.61205055  0.15205537\n",
      "  0.87114806  0.59332888  0.08748725  0.42189857  0.69634571 -0.04643518\n",
      " -1.21015409 -0.95833606 -0.34999144  1.25163745 -0.81047575  0.16382899\n",
      "  0.5107437  -0.95354666 -0.67987661  0.03571811  0.45263253  0.02485437\n",
      " -0.29298788  1.15485607  0.89429232 -0.15033294 -0.708959   -0.62668469\n",
      "  0.14397649  0.90235755  0.79704087  0.445489   -0.09306362  0.59484973\n",
      "  0.04442873  1.05791831 -0.71498754  0.10111997  0.99941163 -0.30986903\n",
      " -0.02615732  0.72629148]\n",
      "actual value is 385    0.320333\n",
      "367    1.517805\n",
      "188   -0.893648\n",
      "813    0.946051\n",
      "415    1.710761\n",
      "         ...   \n",
      "845   -1.375964\n",
      "802    0.943654\n",
      "71    -0.585628\n",
      "514   -0.164713\n",
      "235    0.578151\n",
      "Name: capacity_mw, Length: 182, dtype: float64\n"
     ]
    }
   ],
   "source": [
    "print(\"predicted value is\",pred_test)\n",
    "print(\"actual value is\",y_test)"
   ]
  },
  {
   "cell_type": "code",
   "execution_count": 68,
   "id": "8c6bd72f",
   "metadata": {},
   "outputs": [
    {
     "name": "stdout",
     "output_type": "stream",
     "text": [
      "mean absoute value 0.44984875015876985\n",
      "mean squared error 0.3281886075970844\n",
      "Root mean squared error 0.5728774804415726\n"
     ]
    }
   ],
   "source": [
    "from sklearn.metrics import mean_squared_error, mean_absolute_error\n",
    "print(\"mean absoute value\",mean_absolute_error(y_test,pred_test))\n",
    "print(\"mean squared error\",mean_squared_error(y_test,pred_test))\n",
    "print (\"Root mean squared error\",np.sqrt(mean_squared_error(y_test,pred_test)))\n"
   ]
  },
  {
   "cell_type": "code",
   "execution_count": 69,
   "id": "1a6e7fd6",
   "metadata": {},
   "outputs": [
    {
     "name": "stdout",
     "output_type": "stream",
     "text": [
      "0.6700832182228479\n"
     ]
    }
   ],
   "source": [
    "print(r2_score(y_test,pred_test))"
   ]
  },
  {
   "cell_type": "markdown",
   "id": "a6761b8f",
   "metadata": {},
   "source": [
    "r2_score got it as 67%"
   ]
  },
  {
   "cell_type": "markdown",
   "id": "fbc3a850",
   "metadata": {},
   "source": [
    "# SVR \n",
    "linear"
   ]
  },
  {
   "cell_type": "code",
   "execution_count": 70,
   "id": "983b2742",
   "metadata": {},
   "outputs": [
    {
     "name": "stdout",
     "output_type": "stream",
     "text": [
      "0.5735754901651364\n"
     ]
    }
   ],
   "source": [
    "from sklearn.svm import SVR\n",
    "\n",
    "svr = SVR(kernel='linear')\n",
    "svr.fit(x_train,y_train)\n",
    "print(svr.score(x_train,y_train))\n",
    "svr_predict=svr.predict(x_test)"
   ]
  },
  {
   "cell_type": "code",
   "execution_count": 71,
   "id": "ffbfc848",
   "metadata": {},
   "outputs": [
    {
     "name": "stdout",
     "output_type": "stream",
     "text": [
      "MSE: 0.3504811330308501\n",
      "MAE: 0.4208216523358829\n",
      "r2_score: 0.551885990761327\n"
     ]
    }
   ],
   "source": [
    "print('MSE:',mean_squared_error(svr_predict,y_test))\n",
    "print('MAE:',mean_absolute_error(svr_predict,y_test))\n",
    "print('r2_score:',r2_score(svr_predict,y_test))"
   ]
  },
  {
   "cell_type": "markdown",
   "id": "bf03924b",
   "metadata": {},
   "source": [
    "# SVR\n",
    "poly"
   ]
  },
  {
   "cell_type": "code",
   "execution_count": 72,
   "id": "3861f4d0",
   "metadata": {},
   "outputs": [
    {
     "name": "stdout",
     "output_type": "stream",
     "text": [
      "0.809552820664948\n"
     ]
    }
   ],
   "source": [
    "svr_p = SVR(kernel='poly')\n",
    "svr_p.fit(x_train,y_train)\n",
    "print(svr_p.score(x_train,y_train))\n",
    "svrpred_p=svr_p.predict(x_test)"
   ]
  },
  {
   "cell_type": "code",
   "execution_count": 73,
   "id": "2ef5325e",
   "metadata": {},
   "outputs": [
    {
     "name": "stdout",
     "output_type": "stream",
     "text": [
      "MSE: 0.3504811330308501\n",
      "MAE: 0.4208216523358829\n",
      "r2_score: 0.551885990761327\n"
     ]
    }
   ],
   "source": [
    "print('MSE:',mean_squared_error(svr_predict,y_test))\n",
    "print('MAE:',mean_absolute_error(svr_predict,y_test))\n",
    "print('r2_score:',r2_score(svr_predict,y_test))"
   ]
  },
  {
   "cell_type": "markdown",
   "id": "0e022dbd",
   "metadata": {},
   "source": [
    "# SVR rbf"
   ]
  },
  {
   "cell_type": "code",
   "execution_count": 74,
   "id": "b2e068b3",
   "metadata": {},
   "outputs": [
    {
     "name": "stdout",
     "output_type": "stream",
     "text": [
      "0.8063192981859763\n"
     ]
    }
   ],
   "source": [
    "svr_r = SVR(kernel='rbf')\n",
    "svr_r.fit(x_train,y_train)\n",
    "print(svr_r.score(x_train,y_train))\n",
    "svrpred_r=svr_r.predict(x_test)"
   ]
  },
  {
   "cell_type": "code",
   "execution_count": 75,
   "id": "d0918936",
   "metadata": {},
   "outputs": [
    {
     "name": "stdout",
     "output_type": "stream",
     "text": [
      "MSE: 0.3504811330308501\n",
      "MAE: 0.4208216523358829\n",
      "r2_score: 0.551885990761327\n"
     ]
    }
   ],
   "source": [
    "print('MSE:',mean_squared_error(svr_predict,y_test))\n",
    "print('MAE:',mean_absolute_error(svr_predict,y_test))\n",
    "print('r2_score:',r2_score(svr_predict,y_test))"
   ]
  },
  {
   "cell_type": "markdown",
   "id": "0e013c61",
   "metadata": {},
   "source": [
    "# RandomForest Regressor"
   ]
  },
  {
   "cell_type": "code",
   "execution_count": 76,
   "id": "26f1dcbb",
   "metadata": {},
   "outputs": [
    {
     "name": "stdout",
     "output_type": "stream",
     "text": [
      "0.9692125460843586\n"
     ]
    }
   ],
   "source": [
    "from sklearn.ensemble import RandomForestRegressor\n",
    "\n",
    "rf = RandomForestRegressor()\n",
    "rf.fit(x_train,y_train)\n",
    "print(rf.score(x_train,y_train))\n",
    "rf_pred=rf.predict(x_test)"
   ]
  },
  {
   "cell_type": "code",
   "execution_count": 77,
   "id": "f5705796",
   "metadata": {},
   "outputs": [
    {
     "name": "stdout",
     "output_type": "stream",
     "text": [
      "MSE: 0.13724984504577004\n",
      "MAE: 0.2471058152991568\n",
      "r2_score: 0.8395299365591529\n"
     ]
    }
   ],
   "source": [
    "print('MSE:',mean_squared_error(rf_pred,y_test))\n",
    "print('MAE:',mean_absolute_error(rf_pred,y_test))\n",
    "print('r2_score:',r2_score(rf_pred,y_test))"
   ]
  },
  {
   "cell_type": "markdown",
   "id": "6f62e133",
   "metadata": {},
   "source": [
    "# Decision Tree Regressor"
   ]
  },
  {
   "cell_type": "code",
   "execution_count": 78,
   "id": "75fb5eef",
   "metadata": {},
   "outputs": [
    {
     "name": "stdout",
     "output_type": "stream",
     "text": [
      "0.9948368823767456\n"
     ]
    }
   ],
   "source": [
    "from sklearn.tree import DecisionTreeRegressor\n",
    "\n",
    "dtr = DecisionTreeRegressor()\n",
    "dtr.fit(x_train,y_train)\n",
    "print(dtr.score(x_train,y_train))\n",
    "dtr_pred=dtr.predict(x_test)"
   ]
  },
  {
   "cell_type": "code",
   "execution_count": 79,
   "id": "20800305",
   "metadata": {},
   "outputs": [
    {
     "name": "stdout",
     "output_type": "stream",
     "text": [
      "MSE: 0.25013767042627044\n",
      "MAE: 0.35390433672676014\n",
      "r2_score: 0.7524152657631635\n"
     ]
    }
   ],
   "source": [
    "print('MSE:',mean_squared_error(dtr_pred,y_test))\n",
    "print('MAE:',mean_absolute_error(dtr_pred,y_test))\n",
    "print('r2_score:',r2_score(dtr_pred,y_test))"
   ]
  },
  {
   "cell_type": "markdown",
   "id": "db782272",
   "metadata": {},
   "source": [
    "# Gradient Booster Regressor"
   ]
  },
  {
   "cell_type": "code",
   "execution_count": 80,
   "id": "b745df00",
   "metadata": {},
   "outputs": [
    {
     "name": "stdout",
     "output_type": "stream",
     "text": [
      "0.8962310254825743\n"
     ]
    }
   ],
   "source": [
    "from sklearn.ensemble import GradientBoostingRegressor\n",
    "\n",
    "gbr = GradientBoostingRegressor()\n",
    "gbr.fit(x_train,y_train)\n",
    "print(gbr.score(x_train,y_train))\n",
    "gbr_pred=gbr.predict(x_test)"
   ]
  },
  {
   "cell_type": "code",
   "execution_count": 81,
   "id": "593f6680",
   "metadata": {},
   "outputs": [
    {
     "name": "stdout",
     "output_type": "stream",
     "text": [
      "MSE: 0.14525719614566124\n",
      "MAE: 0.2559766119532715\n",
      "r2_score: 0.820788352303295\n"
     ]
    }
   ],
   "source": [
    "print('MSE:',mean_squared_error(gbr_pred,y_test))\n",
    "print('MAE:',mean_absolute_error(gbr_pred,y_test))\n",
    "print('r2_score:',r2_score(gbr_pred,y_test))"
   ]
  },
  {
   "cell_type": "markdown",
   "id": "76abf0c4",
   "metadata": {},
   "source": [
    "# Regularization"
   ]
  },
  {
   "cell_type": "code",
   "execution_count": 82,
   "id": "4dd3be41",
   "metadata": {},
   "outputs": [],
   "source": [
    "from sklearn.model_selection import cross_val_score\n",
    "from sklearn.model_selection import GridSearchCV\n",
    "import numpy as np"
   ]
  },
  {
   "cell_type": "code",
   "execution_count": 83,
   "id": "f4299718",
   "metadata": {},
   "outputs": [
    {
     "name": "stdout",
     "output_type": "stream",
     "text": [
      "{'alpha': 0.001, 'fit_intercept': True, 'random_state': 5, 'selection': 'random'}\n"
     ]
    }
   ],
   "source": [
    "from sklearn.linear_model import Lasso\n",
    "\n",
    "parameters={'alpha':[.0001,.001,.01,1,10],\n",
    "            'random_state':list(range(0,10)),\n",
    "            'fit_intercept':[True,False],\n",
    "            'selection':['cyclic', 'random']}\n",
    "ls = Lasso()\n",
    "clf=GridSearchCV(ls,parameters)\n",
    "clf.fit(x_train,y_train)\n",
    "\n",
    "print(clf.best_params_)"
   ]
  },
  {
   "cell_type": "markdown",
   "id": "11856bd0",
   "metadata": {},
   "source": [
    "These are the best parameters"
   ]
  },
  {
   "cell_type": "code",
   "execution_count": 84,
   "id": "79f23cf0",
   "metadata": {},
   "outputs": [
    {
     "data": {
      "text/plain": [
       "0.6699255115909866"
      ]
     },
     "execution_count": 84,
     "metadata": {},
     "output_type": "execute_result"
    }
   ],
   "source": [
    "ls = Lasso(alpha=0.0001,random_state=5,fit_intercept=True,selection ='random')\n",
    "ls.fit(x_train,y_train)\n",
    "ls.score(x_train,y_train)\n",
    "\n",
    "pred_ls=ls.predict(x_test)\n",
    "lss=r2_score(y_test,pred_ls)\n",
    "lss"
   ]
  },
  {
   "cell_type": "markdown",
   "id": "50e0010b",
   "metadata": {},
   "source": [
    "# cross validation"
   ]
  },
  {
   "cell_type": "code",
   "execution_count": 85,
   "id": "8a77f0bf",
   "metadata": {},
   "outputs": [
    {
     "data": {
      "text/plain": [
       "0.6128315166671847"
      ]
     },
     "execution_count": 85,
     "metadata": {},
     "output_type": "execute_result"
    }
   ],
   "source": [
    "cv_score=cross_val_score(ls,x,y,cv=5)\n",
    "cv_mean=cv_score.mean()\n",
    "cv_mean"
   ]
  },
  {
   "cell_type": "code",
   "execution_count": 86,
   "id": "3bd91612",
   "metadata": {},
   "outputs": [
    {
     "name": "stdout",
     "output_type": "stream",
     "text": [
      "0.6818265763586082\n"
     ]
    }
   ],
   "source": [
    "from sklearn.model_selection import cross_val_score \n",
    "print(cross_val_score(dtr,x,y,cv=5).mean())"
   ]
  },
  {
   "cell_type": "code",
   "execution_count": 87,
   "id": "2c105509",
   "metadata": {},
   "outputs": [
    {
     "name": "stdout",
     "output_type": "stream",
     "text": [
      "0.5656674938703057\n"
     ]
    }
   ],
   "source": [
    "print(cross_val_score(svr,x,y,cv=5).mean())"
   ]
  },
  {
   "cell_type": "code",
   "execution_count": 88,
   "id": "f815393d",
   "metadata": {},
   "outputs": [
    {
     "name": "stdout",
     "output_type": "stream",
     "text": [
      "0.7811000061650738\n"
     ]
    }
   ],
   "source": [
    "print(cross_val_score(svr_r,x,y,cv=5).mean())"
   ]
  },
  {
   "cell_type": "code",
   "execution_count": 89,
   "id": "227da4c6",
   "metadata": {},
   "outputs": [
    {
     "name": "stdout",
     "output_type": "stream",
     "text": [
      "0.7590933357860499\n"
     ]
    }
   ],
   "source": [
    "print(cross_val_score(svr_p,x,y,cv=5).mean())"
   ]
  },
  {
   "cell_type": "code",
   "execution_count": 90,
   "id": "ce48aced",
   "metadata": {},
   "outputs": [
    {
     "name": "stdout",
     "output_type": "stream",
     "text": [
      "0.8104921542866862\n"
     ]
    }
   ],
   "source": [
    "print(cross_val_score(gbr,x,y,cv=5).mean())"
   ]
  },
  {
   "cell_type": "code",
   "execution_count": 91,
   "id": "06d49e5c",
   "metadata": {},
   "outputs": [
    {
     "name": "stdout",
     "output_type": "stream",
     "text": [
      "0.8032072287010539\n"
     ]
    }
   ],
   "source": [
    "print(cross_val_score(rf,x,y,cv=5).mean())"
   ]
  },
  {
   "cell_type": "markdown",
   "id": "30a9651e",
   "metadata": {},
   "source": [
    "Got the cross validation for each model.  For enensemble technique choosing RandomForestRegressor"
   ]
  },
  {
   "cell_type": "markdown",
   "id": "0a4c1bb5",
   "metadata": {},
   "source": [
    "# Ensemble technique"
   ]
  },
  {
   "cell_type": "code",
   "execution_count": 92,
   "id": "152ba71c",
   "metadata": {},
   "outputs": [],
   "source": [
    "from sklearn.model_selection import GridSearchCV\n",
    "from sklearn.ensemble import RandomForestRegressor\n",
    "parameters={'n_estimators':[100],\n",
    "            'criterion':['mse'],\n",
    "            'min_samples_split':[2],\n",
    "            'min_samples_leaf':[1]} \n"
   ]
  },
  {
   "cell_type": "code",
   "execution_count": 93,
   "id": "30db987c",
   "metadata": {},
   "outputs": [
    {
     "name": "stdout",
     "output_type": "stream",
     "text": [
      "{'criterion': 'mse', 'min_samples_leaf': 1, 'min_samples_split': 2, 'n_estimators': 100}\n"
     ]
    }
   ],
   "source": [
    "rf=RandomForestRegressor()\n",
    "clf=GridSearchCV(rf,parameters)\n",
    "clf.fit(x_train,y_train)\n",
    "\n",
    "print(clf.best_params_)"
   ]
  },
  {
   "cell_type": "markdown",
   "id": "4438d5ab",
   "metadata": {},
   "source": [
    "These are the best parmeters"
   ]
  },
  {
   "cell_type": "code",
   "execution_count": 94,
   "id": "3c7166ca",
   "metadata": {},
   "outputs": [
    {
     "name": "stdout",
     "output_type": "stream",
     "text": [
      "R2_score 86.28012928631534\n",
      "Cross_val_score 79.95536433533668\n"
     ]
    }
   ],
   "source": [
    "rf= RandomForestRegressor(criterion=\"mse\",min_samples_leaf=1,min_samples_split=2,n_estimators=100)\n",
    "rf.fit(x_train,y_train)\n",
    "rf.score(x_train,y_train)\n",
    "\n",
    "pred_decision=rf.predict(x_test)\n",
    "rfs=r2_score(y_test,pred_decision)\n",
    "print(\"R2_score\",rfs*100)\n",
    "\n",
    "rfs_score=cross_val_score(rf,x,y,cv=5)\n",
    "rfc=rfs_score.mean()\n",
    "print(\"Cross_val_score\",rfc*100)"
   ]
  },
  {
   "cell_type": "markdown",
   "id": "41facd61",
   "metadata": {},
   "source": [
    "R2 score has got as 85% after tunning the model"
   ]
  },
  {
   "cell_type": "markdown",
   "id": "0970dfd8",
   "metadata": {},
   "source": [
    "# Saving the model"
   ]
  },
  {
   "cell_type": "code",
   "execution_count": 95,
   "id": "d584bedc",
   "metadata": {},
   "outputs": [
    {
     "data": {
      "text/plain": [
       "['Final Model of global-power-plant-database.pkl']"
      ]
     },
     "execution_count": 95,
     "metadata": {},
     "output_type": "execute_result"
    }
   ],
   "source": [
    "import joblib\n",
    "joblib.dump(rf,\"Final Model of global-power-plant-database.pkl\")"
   ]
  },
  {
   "cell_type": "markdown",
   "id": "2586fb10",
   "metadata": {},
   "source": [
    "# conclusion"
   ]
  },
  {
   "cell_type": "code",
   "execution_count": 96,
   "id": "74363931",
   "metadata": {},
   "outputs": [
    {
     "name": "stdout",
     "output_type": "stream",
     "text": [
      "0.8628012928631534\n"
     ]
    }
   ],
   "source": [
    "loaded_model=joblib.load(open('Final Model of global-power-plant-database.pkl','rb'))\n",
    "result=loaded_model.score(x_test,y_test)\n",
    "print(result)"
   ]
  },
  {
   "cell_type": "markdown",
   "id": "994fe1f1",
   "metadata": {},
   "source": [
    "Got 86% in prediction"
   ]
  },
  {
   "cell_type": "code",
   "execution_count": 97,
   "id": "e5e2326f",
   "metadata": {},
   "outputs": [],
   "source": [
    "conclusion=pd.DataFrame([loaded_model.predict(x_test)[:],pred_decision[:]],index=[\"Predicted\",\"Original\"])"
   ]
  },
  {
   "cell_type": "code",
   "execution_count": 98,
   "id": "2f34bfe9",
   "metadata": {},
   "outputs": [
    {
     "data": {
      "text/html": [
       "<div>\n",
       "<style scoped>\n",
       "    .dataframe tbody tr th:only-of-type {\n",
       "        vertical-align: middle;\n",
       "    }\n",
       "\n",
       "    .dataframe tbody tr th {\n",
       "        vertical-align: top;\n",
       "    }\n",
       "\n",
       "    .dataframe thead th {\n",
       "        text-align: right;\n",
       "    }\n",
       "</style>\n",
       "<table border=\"1\" class=\"dataframe\">\n",
       "  <thead>\n",
       "    <tr style=\"text-align: right;\">\n",
       "      <th></th>\n",
       "      <th>0</th>\n",
       "      <th>1</th>\n",
       "      <th>2</th>\n",
       "      <th>3</th>\n",
       "      <th>4</th>\n",
       "      <th>5</th>\n",
       "      <th>6</th>\n",
       "      <th>7</th>\n",
       "      <th>8</th>\n",
       "      <th>9</th>\n",
       "      <th>...</th>\n",
       "      <th>172</th>\n",
       "      <th>173</th>\n",
       "      <th>174</th>\n",
       "      <th>175</th>\n",
       "      <th>176</th>\n",
       "      <th>177</th>\n",
       "      <th>178</th>\n",
       "      <th>179</th>\n",
       "      <th>180</th>\n",
       "      <th>181</th>\n",
       "    </tr>\n",
       "  </thead>\n",
       "  <tbody>\n",
       "    <tr>\n",
       "      <th>Predicted</th>\n",
       "      <td>0.629474</td>\n",
       "      <td>1.565256</td>\n",
       "      <td>-0.058167</td>\n",
       "      <td>1.043729</td>\n",
       "      <td>-0.365861</td>\n",
       "      <td>-0.577972</td>\n",
       "      <td>0.757388</td>\n",
       "      <td>-1.02373</td>\n",
       "      <td>1.045744</td>\n",
       "      <td>1.571875</td>\n",
       "      <td>...</td>\n",
       "      <td>-0.182474</td>\n",
       "      <td>0.663728</td>\n",
       "      <td>-0.406048</td>\n",
       "      <td>1.300556</td>\n",
       "      <td>-0.387374</td>\n",
       "      <td>-0.985234</td>\n",
       "      <td>0.899635</td>\n",
       "      <td>-0.720189</td>\n",
       "      <td>-0.237717</td>\n",
       "      <td>0.668422</td>\n",
       "    </tr>\n",
       "    <tr>\n",
       "      <th>Original</th>\n",
       "      <td>0.629474</td>\n",
       "      <td>1.565256</td>\n",
       "      <td>-0.058167</td>\n",
       "      <td>1.043729</td>\n",
       "      <td>-0.365861</td>\n",
       "      <td>-0.577972</td>\n",
       "      <td>0.757388</td>\n",
       "      <td>-1.02373</td>\n",
       "      <td>1.045744</td>\n",
       "      <td>1.571875</td>\n",
       "      <td>...</td>\n",
       "      <td>-0.182474</td>\n",
       "      <td>0.663728</td>\n",
       "      <td>-0.406048</td>\n",
       "      <td>1.300556</td>\n",
       "      <td>-0.387374</td>\n",
       "      <td>-0.985234</td>\n",
       "      <td>0.899635</td>\n",
       "      <td>-0.720189</td>\n",
       "      <td>-0.237717</td>\n",
       "      <td>0.668422</td>\n",
       "    </tr>\n",
       "  </tbody>\n",
       "</table>\n",
       "<p>2 rows × 182 columns</p>\n",
       "</div>"
      ],
      "text/plain": [
       "                0         1         2         3         4         5    \\\n",
       "Predicted  0.629474  1.565256 -0.058167  1.043729 -0.365861 -0.577972   \n",
       "Original   0.629474  1.565256 -0.058167  1.043729 -0.365861 -0.577972   \n",
       "\n",
       "                6        7         8         9    ...       172       173  \\\n",
       "Predicted  0.757388 -1.02373  1.045744  1.571875  ... -0.182474  0.663728   \n",
       "Original   0.757388 -1.02373  1.045744  1.571875  ... -0.182474  0.663728   \n",
       "\n",
       "                174       175       176       177       178       179  \\\n",
       "Predicted -0.406048  1.300556 -0.387374 -0.985234  0.899635 -0.720189   \n",
       "Original  -0.406048  1.300556 -0.387374 -0.985234  0.899635 -0.720189   \n",
       "\n",
       "                180       181  \n",
       "Predicted -0.237717  0.668422  \n",
       "Original  -0.237717  0.668422  \n",
       "\n",
       "[2 rows x 182 columns]"
      ]
     },
     "execution_count": 98,
     "metadata": {},
     "output_type": "execute_result"
    }
   ],
   "source": [
    "conclusion"
   ]
  },
  {
   "cell_type": "markdown",
   "id": "b97e6df4",
   "metadata": {},
   "source": [
    "Got it as predicted and original values are same"
   ]
  },
  {
   "cell_type": "markdown",
   "id": "96564a30",
   "metadata": {},
   "source": [
    "# Taking 'primary_fuel' as target ,freating classificatio model"
   ]
  },
  {
   "cell_type": "code",
   "execution_count": 99,
   "id": "2b748d82",
   "metadata": {},
   "outputs": [],
   "source": [
    "x=df.drop([\"primary_fuel\"],axis=1)\n",
    "y=df[\"primary_fuel\"]"
   ]
  },
  {
   "cell_type": "code",
   "execution_count": 100,
   "id": "5a80e081",
   "metadata": {},
   "outputs": [
    {
     "data": {
      "text/plain": [
       "(908, 11)"
      ]
     },
     "execution_count": 100,
     "metadata": {},
     "output_type": "execute_result"
    }
   ],
   "source": [
    "x.shape"
   ]
  },
  {
   "cell_type": "code",
   "execution_count": 101,
   "id": "b56bdbf4",
   "metadata": {},
   "outputs": [
    {
     "data": {
      "text/plain": [
       "(908,)"
      ]
     },
     "execution_count": 101,
     "metadata": {},
     "output_type": "execute_result"
    }
   ],
   "source": [
    "y.shape"
   ]
  },
  {
   "cell_type": "markdown",
   "id": "886c9082",
   "metadata": {},
   "source": [
    "# Splitting the Data for Training and Testing"
   ]
  },
  {
   "cell_type": "code",
   "execution_count": 102,
   "id": "5e81d771",
   "metadata": {},
   "outputs": [],
   "source": [
    "from sklearn.model_selection import train_test_split"
   ]
  },
  {
   "cell_type": "code",
   "execution_count": 103,
   "id": "1bab0c6a",
   "metadata": {},
   "outputs": [],
   "source": [
    "x_train,x_test,y_train,y_test=train_test_split(x,y,test_size=.2,random_state=12)"
   ]
  },
  {
   "cell_type": "markdown",
   "id": "d12656b5",
   "metadata": {},
   "source": [
    "creating the train test split"
   ]
  },
  {
   "cell_type": "code",
   "execution_count": 104,
   "id": "a4e13652",
   "metadata": {},
   "outputs": [
    {
     "data": {
      "text/plain": [
       "(726, 11)"
      ]
     },
     "execution_count": 104,
     "metadata": {},
     "output_type": "execute_result"
    }
   ],
   "source": [
    "x_train.shape"
   ]
  },
  {
   "cell_type": "code",
   "execution_count": 105,
   "id": "fade5515",
   "metadata": {},
   "outputs": [
    {
     "data": {
      "text/plain": [
       "(182, 11)"
      ]
     },
     "execution_count": 105,
     "metadata": {},
     "output_type": "execute_result"
    }
   ],
   "source": [
    "x_test.shape"
   ]
  },
  {
   "cell_type": "code",
   "execution_count": 106,
   "id": "52727a3d",
   "metadata": {},
   "outputs": [
    {
     "data": {
      "text/plain": [
       "(726,)"
      ]
     },
     "execution_count": 106,
     "metadata": {},
     "output_type": "execute_result"
    }
   ],
   "source": [
    "y_train.shape"
   ]
  },
  {
   "cell_type": "code",
   "execution_count": 107,
   "id": "d6e7250c",
   "metadata": {},
   "outputs": [
    {
     "data": {
      "text/plain": [
       "(182,)"
      ]
     },
     "execution_count": 107,
     "metadata": {},
     "output_type": "execute_result"
    }
   ],
   "source": [
    "y_test.shape"
   ]
  },
  {
   "cell_type": "code",
   "execution_count": 108,
   "id": "59e6416c",
   "metadata": {},
   "outputs": [],
   "source": [
    "from sklearn.tree import DecisionTreeClassifier\n",
    "\n",
    "from sklearn.metrics import accuracy_score,confusion_matrix,classification_report"
   ]
  },
  {
   "cell_type": "code",
   "execution_count": 109,
   "id": "b206632a",
   "metadata": {},
   "outputs": [
    {
     "name": "stdout",
     "output_type": "stream",
     "text": [
      "0.8076923076923077\n",
      "              precision    recall  f1-score   support\n",
      "\n",
      "           0       0.89      0.80      0.84        10\n",
      "           1       0.81      0.78      0.80        55\n",
      "           2       0.26      0.42      0.32        12\n",
      "           3       0.87      0.84      0.85        56\n",
      "           4       0.00      0.00      0.00         2\n",
      "           5       0.50      0.25      0.33         4\n",
      "           6       1.00      1.00      1.00        22\n",
      "           7       1.00      1.00      1.00        21\n",
      "\n",
      "    accuracy                           0.81       182\n",
      "   macro avg       0.67      0.64      0.64       182\n",
      "weighted avg       0.83      0.81      0.81       182\n",
      "\n"
     ]
    }
   ],
   "source": [
    "dtc=DecisionTreeClassifier()\n",
    "dtc.fit(x_train,y_train)\n",
    "preddtc=dtc.predict(x_test)\n",
    "print(accuracy_score(y_test,preddtc))\n",
    "print(classification_report(y_test,preddtc))"
   ]
  },
  {
   "cell_type": "markdown",
   "id": "3e061d7c",
   "metadata": {},
   "source": [
    "By using DecisionTreeClassifier. Got the accuracy as 81%"
   ]
  },
  {
   "cell_type": "code",
   "execution_count": 110,
   "id": "d75fc3c9",
   "metadata": {},
   "outputs": [
    {
     "name": "stdout",
     "output_type": "stream",
     "text": [
      "0.4230769230769231\n",
      "              precision    recall  f1-score   support\n",
      "\n",
      "           0       0.00      0.00      0.00        10\n",
      "           1       0.00      0.00      0.00        55\n",
      "           2       0.00      0.00      0.00        12\n",
      "           3       0.49      1.00      0.65        56\n",
      "           4       0.00      0.00      0.00         2\n",
      "           5       0.00      0.00      0.00         4\n",
      "           6       0.00      0.00      0.00        22\n",
      "           7       0.31      1.00      0.48        21\n",
      "\n",
      "    accuracy                           0.42       182\n",
      "   macro avg       0.10      0.25      0.14       182\n",
      "weighted avg       0.19      0.42      0.26       182\n",
      "\n"
     ]
    }
   ],
   "source": [
    "from sklearn.svm import SVC\n",
    "svc=SVC(kernel='rbf')#It is a type of kernel we have aligned. Rbf is radial basis function.\n",
    "svc.fit(x_train,y_train)\n",
    "predsvc=svc.predict(x_test)\n",
    "print(accuracy_score(y_test,predsvc))\n",
    "print(classification_report(y_test,predsvc))"
   ]
  },
  {
   "cell_type": "markdown",
   "id": "bae5d90b",
   "metadata": {},
   "source": [
    "By using SVC .Got accuracy as 42%"
   ]
  },
  {
   "cell_type": "code",
   "execution_count": 111,
   "id": "7f4c5a4f",
   "metadata": {},
   "outputs": [
    {
     "name": "stdout",
     "output_type": "stream",
     "text": [
      "0.7362637362637363\n",
      "              precision    recall  f1-score   support\n",
      "\n",
      "           0       0.62      0.80      0.70        10\n",
      "           1       0.68      0.69      0.68        55\n",
      "           2       0.20      0.17      0.18        12\n",
      "           3       0.78      0.77      0.77        56\n",
      "           4       0.00      0.00      0.00         2\n",
      "           5       0.00      0.00      0.00         4\n",
      "           6       0.96      1.00      0.98        22\n",
      "           7       0.84      1.00      0.91        21\n",
      "\n",
      "    accuracy                           0.74       182\n",
      "   macro avg       0.51      0.55      0.53       182\n",
      "weighted avg       0.71      0.74      0.72       182\n",
      "\n"
     ]
    }
   ],
   "source": [
    "from sklearn.neighbors import KNeighborsClassifier\n",
    "knn=KNeighborsClassifier(n_neighbors=5)\n",
    "knn.fit(x_train,y_train)\n",
    "knn.score(x_train,y_train)\n",
    "predknn=knn.predict(x_test)\n",
    "print(accuracy_score(y_test,predknn))\n",
    "print(classification_report(y_test,predknn))"
   ]
  },
  {
   "cell_type": "markdown",
   "id": "261cf2d7",
   "metadata": {},
   "source": [
    "By using KNeighborsClassifier. Got accuaracy as 74%"
   ]
  },
  {
   "cell_type": "code",
   "execution_count": 112,
   "id": "33f2fead",
   "metadata": {},
   "outputs": [],
   "source": [
    "from sklearn.ensemble import RandomForestClassifier\n",
    "from sklearn.datasets import make_classification\n"
   ]
  },
  {
   "cell_type": "code",
   "execution_count": 113,
   "id": "9e03f21c",
   "metadata": {},
   "outputs": [
    {
     "name": "stdout",
     "output_type": "stream",
     "text": [
      "0.8516483516483516\n",
      "              precision    recall  f1-score   support\n",
      "\n",
      "           0       0.75      0.90      0.82        10\n",
      "           1       0.78      0.89      0.83        55\n",
      "           2       0.67      0.17      0.27        12\n",
      "           3       0.85      0.89      0.87        56\n",
      "           4       0.00      0.00      0.00         2\n",
      "           5       1.00      0.50      0.67         4\n",
      "           6       1.00      1.00      1.00        22\n",
      "           7       1.00      1.00      1.00        21\n",
      "\n",
      "    accuracy                           0.85       182\n",
      "   macro avg       0.76      0.67      0.68       182\n",
      "weighted avg       0.84      0.85      0.83       182\n",
      "\n"
     ]
    }
   ],
   "source": [
    "rfc=RandomForestClassifier()\n",
    "rfc.fit(x_train,y_train)\n",
    "rfc.score(x_train,y_train)\n",
    "predrfc=rfc.predict(x_test)\n",
    "print(accuracy_score(y_test,predrfc))\n",
    "print(classification_report(y_test,predrfc))"
   ]
  },
  {
   "cell_type": "markdown",
   "id": "3c61fc38",
   "metadata": {},
   "source": [
    "By using RandomForestClassifier. Got accuaracy as 85%"
   ]
  },
  {
   "cell_type": "markdown",
   "id": "1a9008f9",
   "metadata": {},
   "source": [
    "By using DecisionTreeClassifier, got the accuracy as 0.81, By using SVC,got accuracy as 42%, By using KNeighborsClassifier. Got accuaracy as 74%,By using RandomForestClassifier. Got accuaracy as 85%"
   ]
  },
  {
   "cell_type": "markdown",
   "id": "839ee9e2",
   "metadata": {},
   "source": [
    "# Cross validation Score"
   ]
  },
  {
   "cell_type": "code",
   "execution_count": 114,
   "id": "b4de0516",
   "metadata": {},
   "outputs": [
    {
     "name": "stdout",
     "output_type": "stream",
     "text": [
      "0.7830368526501121\n"
     ]
    }
   ],
   "source": [
    "from sklearn.model_selection import cross_val_score \n",
    "print(cross_val_score(dtc,x,y,cv=5).mean())"
   ]
  },
  {
   "cell_type": "code",
   "execution_count": 115,
   "id": "a7b48a43",
   "metadata": {},
   "outputs": [
    {
     "name": "stdout",
     "output_type": "stream",
     "text": [
      "0.4107947301317467\n"
     ]
    }
   ],
   "source": [
    "print(cross_val_score(svc,x,y,cv=5).mean())"
   ]
  },
  {
   "cell_type": "code",
   "execution_count": 116,
   "id": "e917ef96",
   "metadata": {},
   "outputs": [
    {
     "name": "stdout",
     "output_type": "stream",
     "text": [
      "0.7522129803897759\n"
     ]
    }
   ],
   "source": [
    "print(cross_val_score(knn,x,y,cv=5).mean())"
   ]
  },
  {
   "cell_type": "code",
   "execution_count": 117,
   "id": "5bbb55b1",
   "metadata": {},
   "outputs": [
    {
     "name": "stdout",
     "output_type": "stream",
     "text": [
      "0.8524254750774087\n"
     ]
    }
   ],
   "source": [
    "print(cross_val_score(rfc,x,y,cv=5).mean())"
   ]
  },
  {
   "cell_type": "markdown",
   "id": "af3879a2",
   "metadata": {},
   "source": [
    "# Ensemble Techniques"
   ]
  },
  {
   "cell_type": "markdown",
   "id": "423e101e",
   "metadata": {},
   "source": [
    "# ADA BOOST CLASSIFIER"
   ]
  },
  {
   "cell_type": "code",
   "execution_count": 118,
   "id": "c2445157",
   "metadata": {},
   "outputs": [],
   "source": [
    "from sklearn.ensemble import AdaBoostClassifier\n",
    "from sklearn.ensemble import BaggingClassifier\n",
    "from sklearn.ensemble import GradientBoostingClassifier"
   ]
  },
  {
   "cell_type": "code",
   "execution_count": 119,
   "id": "b127c2e1",
   "metadata": {},
   "outputs": [],
   "source": [
    "adb=AdaBoostClassifier()"
   ]
  },
  {
   "cell_type": "code",
   "execution_count": 120,
   "id": "e1632fd1",
   "metadata": {},
   "outputs": [
    {
     "name": "stdout",
     "output_type": "stream",
     "text": [
      "0.5274725274725275\n",
      "[[ 0 10  0  0  0  0  0  0]\n",
      " [ 0 51  0  2  0  0  0  2]\n",
      " [ 0 12  0  0  0  0  0  0]\n",
      " [ 0 53  0  3  0  0  0  0]\n",
      " [ 0  2  0  0  0  0  0  0]\n",
      " [ 0  3  0  1  0  0  0  0]\n",
      " [ 0  0  0  1  0  0 21  0]\n",
      " [ 0  0  0  0  0  0  0 21]]\n",
      "              precision    recall  f1-score   support\n",
      "\n",
      "           0       0.00      0.00      0.00        10\n",
      "           1       0.39      0.93      0.55        55\n",
      "           2       0.00      0.00      0.00        12\n",
      "           3       0.43      0.05      0.10        56\n",
      "           4       0.00      0.00      0.00         2\n",
      "           5       0.00      0.00      0.00         4\n",
      "           6       1.00      0.95      0.98        22\n",
      "           7       0.91      1.00      0.95        21\n",
      "\n",
      "    accuracy                           0.53       182\n",
      "   macro avg       0.34      0.37      0.32       182\n",
      "weighted avg       0.48      0.53      0.42       182\n",
      "\n",
      "Training accuracy:: 0.5633608815426997\n",
      "Test accuracy:: 0.5274725274725275\n"
     ]
    }
   ],
   "source": [
    "adb.fit(x_train,y_train)\n",
    "predicted_adb=adb.predict(x_test)\n",
    "print(accuracy_score(y_test,predicted_adb))\n",
    "print(confusion_matrix(y_test,predicted_adb))\n",
    "print(classification_report(y_test,predicted_adb))\n",
    "print(\"Training accuracy::\",adb.score(x_train,y_train))\n",
    "print(\"Test accuracy::\",adb.score(x_test,y_test))"
   ]
  },
  {
   "cell_type": "markdown",
   "id": "387c8a3e",
   "metadata": {},
   "source": [
    "Got accuracy as 53%"
   ]
  },
  {
   "cell_type": "markdown",
   "id": "08dac478",
   "metadata": {},
   "source": [
    "# BAGGING CLASSIFIER"
   ]
  },
  {
   "cell_type": "code",
   "execution_count": 132,
   "id": "dec0863a",
   "metadata": {},
   "outputs": [],
   "source": [
    "bgc=BaggingClassifier()"
   ]
  },
  {
   "cell_type": "code",
   "execution_count": 133,
   "id": "93659672",
   "metadata": {},
   "outputs": [
    {
     "name": "stdout",
     "output_type": "stream",
     "text": [
      "0.8296703296703297\n",
      "[[ 8  2  0  0  0  0  0  0]\n",
      " [ 3 47  2  3  0  0  0  0]\n",
      " [ 0  6  3  3  0  0  0  0]\n",
      " [ 0  6  2 48  0  0  0  0]\n",
      " [ 1  0  0  1  0  0  0  0]\n",
      " [ 0  0  2  0  0  2  0  0]\n",
      " [ 0  0  0  0  0  0 22  0]\n",
      " [ 0  0  0  0  0  0  0 21]]\n",
      "              precision    recall  f1-score   support\n",
      "\n",
      "           0       0.67      0.80      0.73        10\n",
      "           1       0.77      0.85      0.81        55\n",
      "           2       0.33      0.25      0.29        12\n",
      "           3       0.87      0.86      0.86        56\n",
      "           4       0.00      0.00      0.00         2\n",
      "           5       1.00      0.50      0.67         4\n",
      "           6       1.00      1.00      1.00        22\n",
      "           7       1.00      1.00      1.00        21\n",
      "\n",
      "    accuracy                           0.83       182\n",
      "   macro avg       0.71      0.66      0.67       182\n",
      "weighted avg       0.82      0.83      0.82       182\n",
      "\n",
      "Training accuracy:: 0.9889807162534435\n",
      "Test accuracy:: 0.8296703296703297\n"
     ]
    }
   ],
   "source": [
    "bgc.fit(x_train,y_train)\n",
    "predicted_bgc=bgc.predict(x_test)\n",
    "print(accuracy_score(y_test,predicted_bgc))\n",
    "print(confusion_matrix(y_test,predicted_bgc))\n",
    "print(classification_report(y_test,predicted_bgc))\n",
    "print(\"Training accuracy::\",bgc.score(x_train,y_train))\n",
    "print(\"Test accuracy::\",bgc.score(x_test,y_test))"
   ]
  },
  {
   "cell_type": "markdown",
   "id": "0495dc2b",
   "metadata": {},
   "source": [
    "Got accuracy as 83%"
   ]
  },
  {
   "cell_type": "markdown",
   "id": "a5559713",
   "metadata": {},
   "source": [
    "# Gradient Boosting classifier"
   ]
  },
  {
   "cell_type": "code",
   "execution_count": 134,
   "id": "ff7d206a",
   "metadata": {},
   "outputs": [],
   "source": [
    "grbc=GradientBoostingClassifier()"
   ]
  },
  {
   "cell_type": "code",
   "execution_count": 135,
   "id": "c0898d77",
   "metadata": {},
   "outputs": [
    {
     "name": "stdout",
     "output_type": "stream",
     "text": [
      "0.8571428571428571\n",
      "[[10  0  0  0  0  0  0  0]\n",
      " [ 2 46  0  5  2  0  0  0]\n",
      " [ 0  5  4  3  0  0  0  0]\n",
      " [ 0  5  1 50  0  0  0  0]\n",
      " [ 0  0  0  1  1  0  0  0]\n",
      " [ 0  0  2  0  0  2  0  0]\n",
      " [ 0  0  0  0  0  0 22  0]\n",
      " [ 0  0  0  0  0  0  0 21]]\n",
      "              precision    recall  f1-score   support\n",
      "\n",
      "           0       0.83      1.00      0.91        10\n",
      "           1       0.82      0.84      0.83        55\n",
      "           2       0.57      0.33      0.42        12\n",
      "           3       0.85      0.89      0.87        56\n",
      "           4       0.33      0.50      0.40         2\n",
      "           5       1.00      0.50      0.67         4\n",
      "           6       1.00      1.00      1.00        22\n",
      "           7       1.00      1.00      1.00        21\n",
      "\n",
      "    accuracy                           0.86       182\n",
      "   macro avg       0.80      0.76      0.76       182\n",
      "weighted avg       0.85      0.86      0.85       182\n",
      "\n",
      "Training accuracy:: 1.0\n",
      "Test accuracy:: 0.8571428571428571\n"
     ]
    }
   ],
   "source": [
    "grbc.fit(x_train,y_train)\n",
    "predicted_grbc=grbc.predict(x_test)\n",
    "print(accuracy_score(y_test,predicted_grbc))\n",
    "print(confusion_matrix(y_test,predicted_grbc))\n",
    "print(classification_report(y_test,predicted_grbc))\n",
    "print(\"Training accuracy::\",grbc.score(x_train,y_train))\n",
    "print(\"Test accuracy::\",grbc.score(x_test,y_test))"
   ]
  },
  {
   "cell_type": "markdown",
   "id": "b850791f",
   "metadata": {},
   "source": [
    "Got accuracy as 86%"
   ]
  },
  {
   "cell_type": "markdown",
   "id": "f08c67b9",
   "metadata": {},
   "source": [
    "# cross validation score"
   ]
  },
  {
   "cell_type": "code",
   "execution_count": 136,
   "id": "aec28c5d",
   "metadata": {},
   "outputs": [
    {
     "name": "stdout",
     "output_type": "stream",
     "text": [
      "0.5298160403132779\n"
     ]
    }
   ],
   "source": [
    "print(cross_val_score(adb,x,y,cv=5).mean())"
   ]
  },
  {
   "cell_type": "code",
   "execution_count": 137,
   "id": "1adb3d7f",
   "metadata": {},
   "outputs": [
    {
     "name": "stdout",
     "output_type": "stream",
     "text": [
      "0.8435978386254629\n"
     ]
    }
   ],
   "source": [
    "print(cross_val_score(bgc,x,y,cv=5).mean())"
   ]
  },
  {
   "cell_type": "code",
   "execution_count": 138,
   "id": "9d74fe3f",
   "metadata": {},
   "outputs": [
    {
     "name": "stdout",
     "output_type": "stream",
     "text": [
      "0.8568150081962237\n"
     ]
    }
   ],
   "source": [
    "print(cross_val_score(grbc,x,y,cv=5).mean())"
   ]
  },
  {
   "cell_type": "markdown",
   "id": "e8fe94ee",
   "metadata": {},
   "source": [
    "Difference between dtc is 2,svc is 1, knn is 1, and rfc is 1. So RandomForesClassifier is having best accuracy and its giving the best model also."
   ]
  },
  {
   "cell_type": "markdown",
   "id": "1d223179",
   "metadata": {},
   "source": [
    "# Hyper parameter tunning"
   ]
  },
  {
   "cell_type": "code",
   "execution_count": 121,
   "id": "05684d0f",
   "metadata": {},
   "outputs": [],
   "source": [
    "from sklearn.model_selection import GridSearchCV\n",
    "import numpy as np"
   ]
  },
  {
   "cell_type": "code",
   "execution_count": 122,
   "id": "0f8263b6",
   "metadata": {},
   "outputs": [],
   "source": [
    "parameter={'criterion' : [\"gini\", \"entropy\"],\n",
    "           'n_estimators':[200,50],\n",
    "           'min_samples_split':[2,3],\n",
    "           'random_state':[10]              \n",
    "           }"
   ]
  },
  {
   "cell_type": "code",
   "execution_count": 123,
   "id": "e562d3b1",
   "metadata": {},
   "outputs": [],
   "source": [
    "GCV=GridSearchCV(RandomForestClassifier(),parameter,cv=5)"
   ]
  },
  {
   "cell_type": "code",
   "execution_count": 124,
   "id": "9e502bab",
   "metadata": {},
   "outputs": [
    {
     "data": {
      "text/plain": [
       "GridSearchCV(cv=5, estimator=RandomForestClassifier(),\n",
       "             param_grid={'criterion': ['gini', 'entropy'],\n",
       "                         'min_samples_split': [2, 3], 'n_estimators': [200, 50],\n",
       "                         'random_state': [10]})"
      ]
     },
     "execution_count": 124,
     "metadata": {},
     "output_type": "execute_result"
    }
   ],
   "source": [
    "GCV.fit(x_train,y_train)"
   ]
  },
  {
   "cell_type": "code",
   "execution_count": 125,
   "id": "6732c846",
   "metadata": {},
   "outputs": [
    {
     "data": {
      "text/plain": [
       "{'criterion': 'entropy',\n",
       " 'min_samples_split': 2,\n",
       " 'n_estimators': 200,\n",
       " 'random_state': 10}"
      ]
     },
     "execution_count": 125,
     "metadata": {},
     "output_type": "execute_result"
    }
   ],
   "source": [
    "GCV.best_params_"
   ]
  },
  {
   "cell_type": "markdown",
   "id": "b22a6a03",
   "metadata": {},
   "source": [
    "These are the best parameters"
   ]
  },
  {
   "cell_type": "code",
   "execution_count": 126,
   "id": "55b03b21",
   "metadata": {},
   "outputs": [
    {
     "name": "stdout",
     "output_type": "stream",
     "text": [
      "85.71428571428571\n"
     ]
    }
   ],
   "source": [
    "final_model=RandomForestClassifier(criterion='entropy',min_samples_split=2,n_estimators=200,random_state=10)\n",
    "final_model.fit(x_train,y_train)\n",
    "pred=final_model.predict(x_test)\n",
    "accuracy=accuracy_score(y_test,pred)\n",
    "print (accuracy*100)"
   ]
  },
  {
   "cell_type": "markdown",
   "id": "04a63454",
   "metadata": {},
   "source": [
    "Got the accuracy as 85%"
   ]
  },
  {
   "cell_type": "markdown",
   "id": "11344ec5",
   "metadata": {},
   "source": [
    "# Ploltting AOC RUC CURVE"
   ]
  },
  {
   "cell_type": "code",
   "execution_count": 127,
   "id": "ed567012",
   "metadata": {},
   "outputs": [],
   "source": [
    "from sklearn.metrics import roc_curve\n",
    "import matplotlib.pyplot as plt\n",
    "from sklearn.metrics import roc_auc_score   "
   ]
  },
  {
   "cell_type": "code",
   "execution_count": 128,
   "id": "a5847b41",
   "metadata": {},
   "outputs": [],
   "source": [
    "y_pred_prob=rfc.predict_proba(x_test)[:,1] "
   ]
  },
  {
   "cell_type": "code",
   "execution_count": 129,
   "id": "77feb03e",
   "metadata": {},
   "outputs": [],
   "source": [
    "fpr,tpr,thresholds=roc_curve(y_test,y_pred_prob,pos_label=1) "
   ]
  },
  {
   "cell_type": "code",
   "execution_count": 130,
   "id": "b7c30ebf",
   "metadata": {},
   "outputs": [
    {
     "data": {
      "text/plain": [
       "<matplotlib.legend.Legend at 0x268bc9e8640>"
      ]
     },
     "execution_count": 130,
     "metadata": {},
     "output_type": "execute_result"
    },
    {
     "data": {
      "image/png": "[encoded data removed]",
      "text/plain": [
       "<Figure size 432x288 with 1 Axes>"
      ]
     },
     "metadata": {},
     "output_type": "display_data"
    }
   ],
   "source": [
    "sn.set_theme(style=\"darkgrid\")\n",
    "plt.plot(fpr, tpr, linestyle='--',color='red', label='RandomForestClassifier')\n",
    "\n",
    "plt.title('ROC curve')\n",
    "plt.xlabel('False Positive Rate')\n",
    "plt.ylabel('True Positive rate')\n",
    "plt.legend(loc='best')"
   ]
  },
  {
   "cell_type": "markdown",
   "id": "aed6d7f0",
   "metadata": {},
   "source": [
    "Got the ROC CURVE"
   ]
  },
  {
   "cell_type": "markdown",
   "id": "cab7f29d",
   "metadata": {},
   "source": [
    "# Saving the model"
   ]
  },
  {
   "cell_type": "code",
   "execution_count": 131,
   "id": "b84cb38f",
   "metadata": {},
   "outputs": [
    {
     "data": {
      "text/plain": [
       "['Final Model of global-power-plant-database .pkl']"
      ]
     },
     "execution_count": 131,
     "metadata": {},
     "output_type": "execute_result"
    }
   ],
   "source": [
    "import joblib\n",
    "joblib.dump(final_model,\"Final Model of global-power-plant-database .pkl\")"
   ]
  },
  {
   "cell_type": "markdown",
   "id": "cb242439",
   "metadata": {},
   "source": [
    "Saved the model"
   ]
  }
 ],
 "metadata": {
  "kernelspec": {
   "display_name": "Python 3",
   "language": "python",
   "name": "python3"
  },
  "language_info": {
   "codemirror_mode": {
    "name": "ipython",
    "version": 3
   },
   "file_extension": ".py",
   "mimetype": "text/x-python",
   "name": "python",
   "nbconvert_exporter": "python",
   "pygments_lexer": "ipython3",
   "version": "3.8.8"
  }
 },
 "nbformat": 4,
 "nbformat_minor": 5
}
